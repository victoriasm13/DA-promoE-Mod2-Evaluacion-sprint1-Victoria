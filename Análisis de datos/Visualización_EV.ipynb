{
 "cells": [
  {
   "cell_type": "code",
   "execution_count": 2,
   "metadata": {},
   "outputs": [],
   "source": [
    "import pandas as pd\n",
    "import matplotlib.pyplot as plt\n",
    "import seaborn as sns\n",
    "import numpy as np "
   ]
  },
  {
   "cell_type": "code",
   "execution_count": 3,
   "metadata": {},
   "outputs": [],
   "source": [
    "#Cargamos el dataframe limpio\n",
    "df = pd.read_csv(\"datos/SpotifyYtlimpio.csv\")"
   ]
  },
  {
   "cell_type": "markdown",
   "metadata": {},
   "source": [
    "<h2> Filtrado y Visualziación </h2>\n",
    "<li>¿Cuáles son los valores únicos de la columna \"album_type\"? Cread tres dataframes diferentes, uno para cada tipo de \"album_type\". ¿Cuántas canciones tenemos en cada tipo?</li>"
   ]
  },
  {
   "cell_type": "code",
   "execution_count": 4,
   "metadata": {},
   "outputs": [
    {
     "data": {
      "text/plain": [
       "array(['album', 'single', 'compilation'], dtype=object)"
      ]
     },
     "execution_count": 4,
     "metadata": {},
     "output_type": "execute_result"
    }
   ],
   "source": [
    "#Vemos los valores únicos de album type\n",
    "df[\"album_type\"].unique()"
   ]
  },
  {
   "cell_type": "code",
   "execution_count": 5,
   "metadata": {},
   "outputs": [],
   "source": [
    "df_album = df[df[\"album_type\"] == \"album\"]\n",
    "df_single = df[df[\"album_type\"]== \"single\"]\n",
    "df_compilation = df[df[\"album_type\"] == \"compilation\"]"
   ]
  },
  {
   "cell_type": "code",
   "execution_count": 6,
   "metadata": {},
   "outputs": [
    {
     "data": {
      "text/plain": [
       "(13845, 28)"
      ]
     },
     "execution_count": 6,
     "metadata": {},
     "output_type": "execute_result"
    }
   ],
   "source": [
    "df_album.shape"
   ]
  },
  {
   "cell_type": "code",
   "execution_count": 7,
   "metadata": {},
   "outputs": [
    {
     "data": {
      "text/plain": [
       "(4636, 28)"
      ]
     },
     "execution_count": 7,
     "metadata": {},
     "output_type": "execute_result"
    }
   ],
   "source": [
    "df_single.shape"
   ]
  },
  {
   "cell_type": "code",
   "execution_count": 8,
   "metadata": {},
   "outputs": [
    {
     "data": {
      "text/plain": [
       "(689, 28)"
      ]
     },
     "execution_count": 8,
     "metadata": {},
     "output_type": "execute_result"
    }
   ],
   "source": [
    "df_compilation.shape"
   ]
  },
  {
   "cell_type": "markdown",
   "metadata": {},
   "source": [
    "<li>Usando el dataframe de los albumes que hemos creado en el ejercicio anterior. ¿Cuál es la media y la desviación estándar de \"danceability\", \"acousticness\" y \"speechiness\" de cada artista?. Mostrad los resultados en tres dataframes diferentes, uno para cada métrica (\"danceability\", \"acousticness\" y \"speechiness\"). Ordenar los resultados de mayor a menor en base a la media.</li>"
   ]
  },
  {
   "cell_type": "code",
   "execution_count": 17,
   "metadata": {},
   "outputs": [],
   "source": [
    "media_dc = df_album[\"danceability\"].mean()\n",
    "std_dc = df_album[\"danceability\"].std()\n",
    "media_ac = df_album[\"acousticness\"].mean()\n",
    "std_ac = df_album[\"acousticness\"].std()\n",
    "media_sp = df_album[\"speechiness\"].mean()\n",
    "std_sp = df_album[\"speechiness\"].std()"
   ]
  },
  {
   "cell_type": "code",
   "execution_count": 15,
   "metadata": {},
   "outputs": [],
   "source": [
    "data = {'media':[media_dc,media_ac,media_sp], 'std': [std_dc,std_ac,std_sp]}\n",
    "df_data = pd.DataFrame.from_dict(data, orient='index', columns=['danceability', 'acousticness', 'speechiness']).round(2)"
   ]
  },
  {
   "cell_type": "code",
   "execution_count": 16,
   "metadata": {},
   "outputs": [
    {
     "data": {
      "text/html": [
       "<div>\n",
       "<style scoped>\n",
       "    .dataframe tbody tr th:only-of-type {\n",
       "        vertical-align: middle;\n",
       "    }\n",
       "\n",
       "    .dataframe tbody tr th {\n",
       "        vertical-align: top;\n",
       "    }\n",
       "\n",
       "    .dataframe thead th {\n",
       "        text-align: right;\n",
       "    }\n",
       "</style>\n",
       "<table border=\"1\" class=\"dataframe\">\n",
       "  <thead>\n",
       "    <tr style=\"text-align: right;\">\n",
       "      <th></th>\n",
       "      <th>danceability</th>\n",
       "      <th>acousticness</th>\n",
       "      <th>speechiness</th>\n",
       "    </tr>\n",
       "  </thead>\n",
       "  <tbody>\n",
       "    <tr>\n",
       "      <th>media</th>\n",
       "      <td>0.61</td>\n",
       "      <td>0.29</td>\n",
       "      <td>0.09</td>\n",
       "    </tr>\n",
       "    <tr>\n",
       "      <th>std</th>\n",
       "      <td>0.17</td>\n",
       "      <td>0.29</td>\n",
       "      <td>0.11</td>\n",
       "    </tr>\n",
       "  </tbody>\n",
       "</table>\n",
       "</div>"
      ],
      "text/plain": [
       "       danceability  acousticness  speechiness\n",
       "media          0.61          0.29         0.09\n",
       "std            0.17          0.29         0.11"
      ]
     },
     "execution_count": 16,
     "metadata": {},
     "output_type": "execute_result"
    }
   ],
   "source": [
    "df_data"
   ]
  },
  {
   "cell_type": "markdown",
   "metadata": {},
   "source": [
    "<li>Se quiere estudiar si existe una relación entre la cantidad de visitas que reciben los videos de música de un artista en una plataforma de streaming y la cantidad de likes que estos videos obtienen. Por lo tanto, querremos contestar a la siguiente pregunta: ¿Son aquellos artistas que tienen más visitas los que más likes tienen? Para solucionar este ejercicio deberéis:<li>\n",
    "<ul>\n",
    "<li>Agrupar por artista y calcular la media de visitas y de likes</li>\n",
    "</ul>"
   ]
  },
  {
   "cell_type": "code",
   "execution_count": 44,
   "metadata": {},
   "outputs": [],
   "source": [
    "df_artist = df_album.groupby(\"artist\")[\"views\"].mean().round(2).reset_index()\n",
    "df_artist1 = df_album.groupby(\"artist\")[\"likes\"].mean().round(2).reset_index()"
   ]
  },
  {
   "cell_type": "code",
   "execution_count": 45,
   "metadata": {},
   "outputs": [],
   "source": [
    "dfmerge = df_artist.merge(df_artist1)"
   ]
  },
  {
   "cell_type": "markdown",
   "metadata": {},
   "source": [
    "<li>Quedaros con los 10 artistas que más visitas han tenido.</li>"
   ]
  },
  {
   "cell_type": "code",
   "execution_count": 49,
   "metadata": {},
   "outputs": [],
   "source": [
    "df_popviews = dfmerge.sort_values(by=['views'], ascending= False)\n",
    "df_popviews_top =df_popviews.head(10)"
   ]
  },
  {
   "cell_type": "code",
   "execution_count": 50,
   "metadata": {},
   "outputs": [],
   "source": [
    "df_poplikes = dfmerge.sort_values(by=[\"likes\"], ascending= False)\n",
    "df_poplikes_top = df_poplikes.head(10)"
   ]
  },
  {
   "cell_type": "markdown",
   "metadata": {},
   "source": [
    "<li>Haced un subplot, donde en uno tengamos los 10 artistas con más likes y en el otro los 10 artistas con mas views.</li>"
   ]
  },
  {
   "cell_type": "code",
   "execution_count": 59,
   "metadata": {},
   "outputs": [
    {
     "data": {
      "image/png": "[encoded data removed]",
      "text/plain": [
       "<Figure size 1080x720 with 2 Axes>"
      ]
     },
     "metadata": {
      "needs_background": "light"
     },
     "output_type": "display_data"
    }
   ],
   "source": [
    "fig,ax = plt.subplots(2,1, figsize = (15,10))\n",
    "ax[0].bar(df_popviews_top[\"artist\"],df_popviews_top[\"views\"], color = \"blue\")\n",
    "ax[1].bar(df_poplikes_top[\"artist\"], df_poplikes_top[\"likes\"], color =\"coral\")\n",
    "ax[0].set_title(\"Top 10 visualizaciones\")\n",
    "ax[1].set_title(\"Top 10 likes\")\n",
    "plt.show()"
   ]
  },
  {
   "cell_type": "markdown",
   "metadata": {},
   "source": [
    "<li>BONUS Haced lo mismo para los datos de tipo \"single\".</li>"
   ]
  },
  {
   "cell_type": "code",
   "execution_count": null,
   "metadata": {},
   "outputs": [],
   "source": []
  },
  {
   "cell_type": "markdown",
   "metadata": {},
   "source": [
    "<p>Ahora queremos analizar la colaboración entre artistas en la industria musical, se tienen datos de las colaboraciones realizadas en los últimos años. Se desea conocer cuáles son los artistas que han colaborado en mayor cantidad de canciones y generar un ranking con los diez primeros. ¿Qué artistas con los que más colaboraciones tienen? Para esto tendréis que:</p>\n",
    "<li>Filtrad los datos para quedaros solo con aquellos datos donde en la columna \"track\" tengamos \"feat\".</li>"
   ]
  },
  {
   "cell_type": "code",
   "execution_count": 60,
   "metadata": {},
   "outputs": [
    {
     "data": {
      "text/html": [
       "<div>\n",
       "<style scoped>\n",
       "    .dataframe tbody tr th:only-of-type {\n",
       "        vertical-align: middle;\n",
       "    }\n",
       "\n",
       "    .dataframe tbody tr th {\n",
       "        vertical-align: top;\n",
       "    }\n",
       "\n",
       "    .dataframe thead th {\n",
       "        text-align: right;\n",
       "    }\n",
       "</style>\n",
       "<table border=\"1\" class=\"dataframe\">\n",
       "  <thead>\n",
       "    <tr style=\"text-align: right;\">\n",
       "      <th></th>\n",
       "      <th>Unnamed: 0</th>\n",
       "      <th>artist</th>\n",
       "      <th>url_spotify</th>\n",
       "      <th>track</th>\n",
       "      <th>album</th>\n",
       "      <th>album_type</th>\n",
       "      <th>uri</th>\n",
       "      <th>danceability</th>\n",
       "      <th>energy</th>\n",
       "      <th>key</th>\n",
       "      <th>...</th>\n",
       "      <th>url_youtube</th>\n",
       "      <th>title</th>\n",
       "      <th>channel</th>\n",
       "      <th>views</th>\n",
       "      <th>likes</th>\n",
       "      <th>comments</th>\n",
       "      <th>description</th>\n",
       "      <th>licensed</th>\n",
       "      <th>official_video</th>\n",
       "      <th>stream</th>\n",
       "    </tr>\n",
       "  </thead>\n",
       "  <tbody>\n",
       "    <tr>\n",
       "      <th>2</th>\n",
       "      <td>2</td>\n",
       "      <td>Gorillaz</td>\n",
       "      <td>https://open.spotify.com/artist/3AA28KZvwAUcZu...</td>\n",
       "      <td>new gold (feat. tame impala and bootie brown)</td>\n",
       "      <td>new gold (feat. tame impala and bootie brown)</td>\n",
       "      <td>single</td>\n",
       "      <td>spotify:track:64dLd6rVqDLtkXFYrEUHIU</td>\n",
       "      <td>0.69</td>\n",
       "      <td>0.92</td>\n",
       "      <td>1.0</td>\n",
       "      <td>...</td>\n",
       "      <td>https://www.youtube.com/watch?v=qJa-VFwPpYA</td>\n",
       "      <td>gorillaz - new gold ft. tame impala &amp; bootie b...</td>\n",
       "      <td>Gorillaz</td>\n",
       "      <td>8435055.0</td>\n",
       "      <td>282142.0</td>\n",
       "      <td>7399.0</td>\n",
       "      <td>Gorillaz - New Gold ft. Tame Impala &amp; Bootie B...</td>\n",
       "      <td>True</td>\n",
       "      <td>True</td>\n",
       "      <td>63063467.0</td>\n",
       "    </tr>\n",
       "    <tr>\n",
       "      <th>6</th>\n",
       "      <td>6</td>\n",
       "      <td>Gorillaz</td>\n",
       "      <td>https://open.spotify.com/artist/3AA28KZvwAUcZu...</td>\n",
       "      <td>new gold (feat. tame impala and bootie brown) ...</td>\n",
       "      <td>new gold (feat. tame impala and bootie brown) ...</td>\n",
       "      <td>single</td>\n",
       "      <td>spotify:track:2c3KCGq6UojB2c8UAFrRON</td>\n",
       "      <td>0.72</td>\n",
       "      <td>0.90</td>\n",
       "      <td>4.0</td>\n",
       "      <td>...</td>\n",
       "      <td>https://www.youtube.com/watch?v=BONNm0F7Tto</td>\n",
       "      <td>gorillaz - new gold ft. tame impala, bootie br...</td>\n",
       "      <td>Dom Dolla</td>\n",
       "      <td>451996.0</td>\n",
       "      <td>11686.0</td>\n",
       "      <td>241.0</td>\n",
       "      <td>Gorillaz 'New Gold' ft. Tame Impala, Bootie Br...</td>\n",
       "      <td>False</td>\n",
       "      <td>True</td>\n",
       "      <td>10666154.0</td>\n",
       "    </tr>\n",
       "    <tr>\n",
       "      <th>7</th>\n",
       "      <td>7</td>\n",
       "      <td>Gorillaz</td>\n",
       "      <td>https://open.spotify.com/artist/3AA28KZvwAUcZu...</td>\n",
       "      <td>she's my collar (feat. kali uchis)</td>\n",
       "      <td>humanz (deluxe)</td>\n",
       "      <td>album</td>\n",
       "      <td>spotify:track:3lIxtCaROdRDuTnNBDm3n2</td>\n",
       "      <td>0.73</td>\n",
       "      <td>0.81</td>\n",
       "      <td>11.0</td>\n",
       "      <td>...</td>\n",
       "      <td>https://www.youtube.com/watch?v=f8NwLXYIHS4</td>\n",
       "      <td>gorillaz - she's my collar [hq]</td>\n",
       "      <td>SalvaMuñox</td>\n",
       "      <td>1010982.0</td>\n",
       "      <td>17675.0</td>\n",
       "      <td>260.0</td>\n",
       "      <td>𝐁̲𝐎̲𝐍̲𝐔̲𝐒̲:̲ Hu̳ma̳n̳z [̲̠̲𝐃̲̠̲𝐄̲̠̲𝐅̲̠̲𝐈̲̠̲𝐍̲̠...</td>\n",
       "      <td>False</td>\n",
       "      <td>False</td>\n",
       "      <td>159605929.0</td>\n",
       "    </tr>\n",
       "    <tr>\n",
       "      <th>8</th>\n",
       "      <td>8</td>\n",
       "      <td>Gorillaz</td>\n",
       "      <td>https://open.spotify.com/artist/3AA28KZvwAUcZu...</td>\n",
       "      <td>cracker island (feat. thundercat)</td>\n",
       "      <td>cracker island (feat. thundercat)</td>\n",
       "      <td>single</td>\n",
       "      <td>spotify:track:2W3ZpQg9i6lE6kmHbcdu9N</td>\n",
       "      <td>0.74</td>\n",
       "      <td>0.91</td>\n",
       "      <td>2.0</td>\n",
       "      <td>...</td>\n",
       "      <td>https://www.youtube.com/watch?v=S03T47hapAc</td>\n",
       "      <td>gorillaz - cracker island ft. thundercat (offi...</td>\n",
       "      <td>Gorillaz</td>\n",
       "      <td>24459820.0</td>\n",
       "      <td>739527.0</td>\n",
       "      <td>20296.0</td>\n",
       "      <td>Listen to Cracker Island: https://gorillaz.lnk...</td>\n",
       "      <td>True</td>\n",
       "      <td>True</td>\n",
       "      <td>42671901.0</td>\n",
       "    </tr>\n",
       "    <tr>\n",
       "      <th>27</th>\n",
       "      <td>27</td>\n",
       "      <td>50 Cent</td>\n",
       "      <td>https://open.spotify.com/artist/3q7HBObVc0L8jN...</td>\n",
       "      <td>is this love ('09) (feat. 50 cent)</td>\n",
       "      <td>curtain call 2</td>\n",
       "      <td>album</td>\n",
       "      <td>spotify:track:7rK0iM6jwuo1oizdx8suQA</td>\n",
       "      <td>0.85</td>\n",
       "      <td>0.78</td>\n",
       "      <td>8.0</td>\n",
       "      <td>...</td>\n",
       "      <td>https://www.youtube.com/watch?v=Zl64MRAqQxk</td>\n",
       "      <td>eminem, 50 cent - is this love ('09) [visualizer]</td>\n",
       "      <td>EminemVEVO</td>\n",
       "      <td>5289821.0</td>\n",
       "      <td>245935.0</td>\n",
       "      <td>9008.0</td>\n",
       "      <td>Listen to \"Curtain Call 2\": \\nhttps://Eminem.l...</td>\n",
       "      <td>True</td>\n",
       "      <td>True</td>\n",
       "      <td>28529840.0</td>\n",
       "    </tr>\n",
       "  </tbody>\n",
       "</table>\n",
       "<p>5 rows × 28 columns</p>\n",
       "</div>"
      ],
      "text/plain": [
       "    Unnamed: 0    artist                                        url_spotify  \\\n",
       "2            2  Gorillaz  https://open.spotify.com/artist/3AA28KZvwAUcZu...   \n",
       "6            6  Gorillaz  https://open.spotify.com/artist/3AA28KZvwAUcZu...   \n",
       "7            7  Gorillaz  https://open.spotify.com/artist/3AA28KZvwAUcZu...   \n",
       "8            8  Gorillaz  https://open.spotify.com/artist/3AA28KZvwAUcZu...   \n",
       "27          27   50 Cent  https://open.spotify.com/artist/3q7HBObVc0L8jN...   \n",
       "\n",
       "                                                track  \\\n",
       "2       new gold (feat. tame impala and bootie brown)   \n",
       "6   new gold (feat. tame impala and bootie brown) ...   \n",
       "7                  she's my collar (feat. kali uchis)   \n",
       "8                   cracker island (feat. thundercat)   \n",
       "27                 is this love ('09) (feat. 50 cent)   \n",
       "\n",
       "                                                album album_type  \\\n",
       "2       new gold (feat. tame impala and bootie brown)     single   \n",
       "6   new gold (feat. tame impala and bootie brown) ...     single   \n",
       "7                                     humanz (deluxe)      album   \n",
       "8                   cracker island (feat. thundercat)     single   \n",
       "27                                     curtain call 2      album   \n",
       "\n",
       "                                     uri  danceability  energy   key  ...  \\\n",
       "2   spotify:track:64dLd6rVqDLtkXFYrEUHIU          0.69    0.92   1.0  ...   \n",
       "6   spotify:track:2c3KCGq6UojB2c8UAFrRON          0.72    0.90   4.0  ...   \n",
       "7   spotify:track:3lIxtCaROdRDuTnNBDm3n2          0.73    0.81  11.0  ...   \n",
       "8   spotify:track:2W3ZpQg9i6lE6kmHbcdu9N          0.74    0.91   2.0  ...   \n",
       "27  spotify:track:7rK0iM6jwuo1oizdx8suQA          0.85    0.78   8.0  ...   \n",
       "\n",
       "                                    url_youtube  \\\n",
       "2   https://www.youtube.com/watch?v=qJa-VFwPpYA   \n",
       "6   https://www.youtube.com/watch?v=BONNm0F7Tto   \n",
       "7   https://www.youtube.com/watch?v=f8NwLXYIHS4   \n",
       "8   https://www.youtube.com/watch?v=S03T47hapAc   \n",
       "27  https://www.youtube.com/watch?v=Zl64MRAqQxk   \n",
       "\n",
       "                                                title     channel       views  \\\n",
       "2   gorillaz - new gold ft. tame impala & bootie b...    Gorillaz   8435055.0   \n",
       "6   gorillaz - new gold ft. tame impala, bootie br...   Dom Dolla    451996.0   \n",
       "7                     gorillaz - she's my collar [hq]  SalvaMuñox   1010982.0   \n",
       "8   gorillaz - cracker island ft. thundercat (offi...    Gorillaz  24459820.0   \n",
       "27  eminem, 50 cent - is this love ('09) [visualizer]  EminemVEVO   5289821.0   \n",
       "\n",
       "       likes  comments                                        description  \\\n",
       "2   282142.0    7399.0  Gorillaz - New Gold ft. Tame Impala & Bootie B...   \n",
       "6    11686.0     241.0  Gorillaz 'New Gold' ft. Tame Impala, Bootie Br...   \n",
       "7    17675.0     260.0  𝐁̲𝐎̲𝐍̲𝐔̲𝐒̲:̲ Hu̳ma̳n̳z [̲̠̲𝐃̲̠̲𝐄̲̠̲𝐅̲̠̲𝐈̲̠̲𝐍̲̠...   \n",
       "8   739527.0   20296.0  Listen to Cracker Island: https://gorillaz.lnk...   \n",
       "27  245935.0    9008.0  Listen to \"Curtain Call 2\": \\nhttps://Eminem.l...   \n",
       "\n",
       "    licensed official_video       stream  \n",
       "2       True           True   63063467.0  \n",
       "6      False           True   10666154.0  \n",
       "7      False          False  159605929.0  \n",
       "8       True           True   42671901.0  \n",
       "27      True           True   28529840.0  \n",
       "\n",
       "[5 rows x 28 columns]"
      ]
     },
     "execution_count": 60,
     "metadata": {},
     "output_type": "execute_result"
    }
   ],
   "source": [
    "patron = \"feat\"\n",
    "colaboraciones = df[df[\"track\"].str.contains(patron, regex= True)]\n",
    "colaboraciones.head()"
   ]
  },
  {
   "cell_type": "markdown",
   "metadata": {},
   "source": [
    "<li>Contad cuantas canciones tiene cada artista utilizando el dataframe generado en el paso anterior.</li>"
   ]
  },
  {
   "cell_type": "code",
   "execution_count": 81,
   "metadata": {},
   "outputs": [],
   "source": [
    "df_colab = colaboraciones.groupby(\"artist\")[\"track\"].count().reset_index()"
   ]
  },
  {
   "cell_type": "code",
   "execution_count": 83,
   "metadata": {},
   "outputs": [],
   "source": [
    "df_colab = df_colab.sort_values(by=[\"track\"], ascending = False)"
   ]
  },
  {
   "cell_type": "code",
   "execution_count": 84,
   "metadata": {},
   "outputs": [
    {
     "data": {
      "text/html": [
       "<div>\n",
       "<style scoped>\n",
       "    .dataframe tbody tr th:only-of-type {\n",
       "        vertical-align: middle;\n",
       "    }\n",
       "\n",
       "    .dataframe tbody tr th {\n",
       "        vertical-align: top;\n",
       "    }\n",
       "\n",
       "    .dataframe thead th {\n",
       "        text-align: right;\n",
       "    }\n",
       "</style>\n",
       "<table border=\"1\" class=\"dataframe\">\n",
       "  <thead>\n",
       "    <tr style=\"text-align: right;\">\n",
       "      <th></th>\n",
       "      <th>artist</th>\n",
       "      <th>track</th>\n",
       "    </tr>\n",
       "  </thead>\n",
       "  <tbody>\n",
       "    <tr>\n",
       "      <th>387</th>\n",
       "      <td>Macklemore</td>\n",
       "      <td>10</td>\n",
       "    </tr>\n",
       "    <tr>\n",
       "      <th>293</th>\n",
       "      <td>Juicy J</td>\n",
       "      <td>10</td>\n",
       "    </tr>\n",
       "    <tr>\n",
       "      <th>625</th>\n",
       "      <td>Ty Dolla ign</td>\n",
       "      <td>9</td>\n",
       "    </tr>\n",
       "    <tr>\n",
       "      <th>134</th>\n",
       "      <td>DJ Khaled</td>\n",
       "      <td>9</td>\n",
       "    </tr>\n",
       "    <tr>\n",
       "      <th>646</th>\n",
       "      <td>Wu-Tang Clan</td>\n",
       "      <td>9</td>\n",
       "    </tr>\n",
       "    <tr>\n",
       "      <th>46</th>\n",
       "      <td>B.o.B</td>\n",
       "      <td>8</td>\n",
       "    </tr>\n",
       "    <tr>\n",
       "      <th>645</th>\n",
       "      <td>Wizkid</td>\n",
       "      <td>8</td>\n",
       "    </tr>\n",
       "    <tr>\n",
       "      <th>121</th>\n",
       "      <td>Clean Bandit</td>\n",
       "      <td>8</td>\n",
       "    </tr>\n",
       "    <tr>\n",
       "      <th>637</th>\n",
       "      <td>Wale</td>\n",
       "      <td>8</td>\n",
       "    </tr>\n",
       "    <tr>\n",
       "      <th>498</th>\n",
       "      <td>Popcaan</td>\n",
       "      <td>8</td>\n",
       "    </tr>\n",
       "  </tbody>\n",
       "</table>\n",
       "</div>"
      ],
      "text/plain": [
       "           artist  track\n",
       "387    Macklemore     10\n",
       "293       Juicy J     10\n",
       "625  Ty Dolla ign      9\n",
       "134     DJ Khaled      9\n",
       "646  Wu-Tang Clan      9\n",
       "46          B.o.B      8\n",
       "645        Wizkid      8\n",
       "121  Clean Bandit      8\n",
       "637          Wale      8\n",
       "498       Popcaan      8"
      ]
     },
     "execution_count": 84,
     "metadata": {},
     "output_type": "execute_result"
    }
   ],
   "source": [
    "df_colab_top = df_colab.head(10)\n",
    "df_colab_top"
   ]
  },
  {
   "cell_type": "code",
   "execution_count": 110,
   "metadata": {},
   "outputs": [],
   "source": [
    "df_prueba = df[df[\"artist\"] == \"Katy Perry\"]"
   ]
  },
  {
   "cell_type": "code",
   "execution_count": 111,
   "metadata": {},
   "outputs": [
    {
     "data": {
      "text/plain": [
       "(10, 28)"
      ]
     },
     "execution_count": 111,
     "metadata": {},
     "output_type": "execute_result"
    }
   ],
   "source": [
    "df_prueba.shape"
   ]
  },
  {
   "cell_type": "code",
   "execution_count": 112,
   "metadata": {},
   "outputs": [
    {
     "data": {
      "text/html": [
       "<div>\n",
       "<style scoped>\n",
       "    .dataframe tbody tr th:only-of-type {\n",
       "        vertical-align: middle;\n",
       "    }\n",
       "\n",
       "    .dataframe tbody tr th {\n",
       "        vertical-align: top;\n",
       "    }\n",
       "\n",
       "    .dataframe thead th {\n",
       "        text-align: right;\n",
       "    }\n",
       "</style>\n",
       "<table border=\"1\" class=\"dataframe\">\n",
       "  <thead>\n",
       "    <tr style=\"text-align: right;\">\n",
       "      <th></th>\n",
       "      <th>Unnamed: 0</th>\n",
       "      <th>artist</th>\n",
       "      <th>url_spotify</th>\n",
       "      <th>track</th>\n",
       "      <th>album</th>\n",
       "      <th>album_type</th>\n",
       "      <th>uri</th>\n",
       "      <th>danceability</th>\n",
       "      <th>energy</th>\n",
       "      <th>key</th>\n",
       "      <th>...</th>\n",
       "      <th>url_youtube</th>\n",
       "      <th>title</th>\n",
       "      <th>channel</th>\n",
       "      <th>views</th>\n",
       "      <th>likes</th>\n",
       "      <th>comments</th>\n",
       "      <th>description</th>\n",
       "      <th>licensed</th>\n",
       "      <th>official_video</th>\n",
       "      <th>stream</th>\n",
       "    </tr>\n",
       "  </thead>\n",
       "  <tbody>\n",
       "    <tr>\n",
       "      <th>11907</th>\n",
       "      <td>13029</td>\n",
       "      <td>Katy Perry</td>\n",
       "      <td>https://open.spotify.com/artist/6jJ0s89eD6GaHl...</td>\n",
       "      <td>dark horse</td>\n",
       "      <td>prism</td>\n",
       "      <td>album</td>\n",
       "      <td>spotify:track:4jbmgIyjGoXjY01XxatOx6</td>\n",
       "      <td>0.65</td>\n",
       "      <td>0.58</td>\n",
       "      <td>6.0</td>\n",
       "      <td>...</td>\n",
       "      <td>https://www.youtube.com/watch?v=0KSOMA3QBU0</td>\n",
       "      <td>katy perry - dark horse (official) ft. juicy j</td>\n",
       "      <td>KatyPerryVEVO</td>\n",
       "      <td>3.442527e+09</td>\n",
       "      <td>16342399.0</td>\n",
       "      <td>794592.0</td>\n",
       "      <td>Listen to Katy’s new song “Smile”: https://kat...</td>\n",
       "      <td>True</td>\n",
       "      <td>True</td>\n",
       "      <td>1.067827e+09</td>\n",
       "    </tr>\n",
       "    <tr>\n",
       "      <th>11908</th>\n",
       "      <td>13030</td>\n",
       "      <td>Katy Perry</td>\n",
       "      <td>https://open.spotify.com/artist/6jJ0s89eD6GaHl...</td>\n",
       "      <td>unconditionally</td>\n",
       "      <td>prism</td>\n",
       "      <td>album</td>\n",
       "      <td>spotify:track:009ImBOrIUlWgla8U05RAC</td>\n",
       "      <td>0.43</td>\n",
       "      <td>0.72</td>\n",
       "      <td>7.0</td>\n",
       "      <td>...</td>\n",
       "      <td>https://www.youtube.com/watch?v=XjwZAa2EjKA</td>\n",
       "      <td>katy perry - unconditionally (official)</td>\n",
       "      <td>KatyPerryVEVO</td>\n",
       "      <td>6.522712e+08</td>\n",
       "      <td>3433059.0</td>\n",
       "      <td>107580.0</td>\n",
       "      <td>Download \"Unconditionally\" from Katy Perry's '...</td>\n",
       "      <td>True</td>\n",
       "      <td>True</td>\n",
       "      <td>4.566808e+08</td>\n",
       "    </tr>\n",
       "    <tr>\n",
       "      <th>11909</th>\n",
       "      <td>13031</td>\n",
       "      <td>Katy Perry</td>\n",
       "      <td>https://open.spotify.com/artist/6jJ0s89eD6GaHl...</td>\n",
       "      <td>when i’m gone (with katy perry)</td>\n",
       "      <td>when i’m gone (with katy perry)</td>\n",
       "      <td>single</td>\n",
       "      <td>spotify:track:5902W4uHWzhtOff1UK7the</td>\n",
       "      <td>0.69</td>\n",
       "      <td>0.89</td>\n",
       "      <td>0.0</td>\n",
       "      <td>...</td>\n",
       "      <td>https://www.youtube.com/watch?v=N-4YMlihRf4</td>\n",
       "      <td>alesso, katy perry - when i'm gone (official m...</td>\n",
       "      <td>KatyPerryVEVO</td>\n",
       "      <td>2.966849e+07</td>\n",
       "      <td>582383.0</td>\n",
       "      <td>69930.0</td>\n",
       "      <td>Alesso &amp; Katy Perry - When I'm Gone (Official ...</td>\n",
       "      <td>True</td>\n",
       "      <td>True</td>\n",
       "      <td>1.799929e+08</td>\n",
       "    </tr>\n",
       "    <tr>\n",
       "      <th>11910</th>\n",
       "      <td>13032</td>\n",
       "      <td>Katy Perry</td>\n",
       "      <td>https://open.spotify.com/artist/6jJ0s89eD6GaHl...</td>\n",
       "      <td>roar</td>\n",
       "      <td>prism</td>\n",
       "      <td>album</td>\n",
       "      <td>spotify:track:27tNWlhdAryQY04Gb2ZhUI</td>\n",
       "      <td>0.67</td>\n",
       "      <td>0.77</td>\n",
       "      <td>7.0</td>\n",
       "      <td>...</td>\n",
       "      <td>https://www.youtube.com/watch?v=CevxZvSJLk8</td>\n",
       "      <td>katy perry - roar (official)</td>\n",
       "      <td>KatyPerryVEVO</td>\n",
       "      <td>3.725749e+09</td>\n",
       "      <td>15864499.0</td>\n",
       "      <td>763366.0</td>\n",
       "      <td>Katy Perry's new album \"Smile\" out August 28 -...</td>\n",
       "      <td>True</td>\n",
       "      <td>True</td>\n",
       "      <td>8.847210e+08</td>\n",
       "    </tr>\n",
       "    <tr>\n",
       "      <th>11911</th>\n",
       "      <td>13033</td>\n",
       "      <td>Katy Perry</td>\n",
       "      <td>https://open.spotify.com/artist/6jJ0s89eD6GaHl...</td>\n",
       "      <td>feels (feat. pharrell williams, katy perry &amp; b...</td>\n",
       "      <td>funk wav bounces vol.1</td>\n",
       "      <td>album</td>\n",
       "      <td>spotify:track:5bcTCxgc7xVfSaMV3RuVke</td>\n",
       "      <td>0.89</td>\n",
       "      <td>0.74</td>\n",
       "      <td>11.0</td>\n",
       "      <td>...</td>\n",
       "      <td>https://www.youtube.com/watch?v=ozv4q2ov3Mk</td>\n",
       "      <td>calvin harris - feels (official video) ft. pha...</td>\n",
       "      <td>CalvinHarrisVEVO</td>\n",
       "      <td>6.734978e+08</td>\n",
       "      <td>4097989.0</td>\n",
       "      <td>105475.0</td>\n",
       "      <td>Calvin Harris - Feels feat. Pharrell Williams,...</td>\n",
       "      <td>True</td>\n",
       "      <td>True</td>\n",
       "      <td>9.812871e+08</td>\n",
       "    </tr>\n",
       "    <tr>\n",
       "      <th>11912</th>\n",
       "      <td>13034</td>\n",
       "      <td>Katy Perry</td>\n",
       "      <td>https://open.spotify.com/artist/6jJ0s89eD6GaHl...</td>\n",
       "      <td>the one that got away</td>\n",
       "      <td>teenage dream</td>\n",
       "      <td>album</td>\n",
       "      <td>spotify:track:6hkOqJ5mE093AQf2lbZnsG</td>\n",
       "      <td>0.69</td>\n",
       "      <td>0.80</td>\n",
       "      <td>1.0</td>\n",
       "      <td>...</td>\n",
       "      <td>https://www.youtube.com/watch?v=Ahha3Cqe_fk</td>\n",
       "      <td>katy perry - the one that got away (official m...</td>\n",
       "      <td>KatyPerryVEVO</td>\n",
       "      <td>9.530567e+08</td>\n",
       "      <td>4500259.0</td>\n",
       "      <td>225804.0</td>\n",
       "      <td>CELEBRATING TEN YEARS OF TEENAGE DREAM!!\\nREMA...</td>\n",
       "      <td>True</td>\n",
       "      <td>True</td>\n",
       "      <td>6.001068e+08</td>\n",
       "    </tr>\n",
       "    <tr>\n",
       "      <th>11913</th>\n",
       "      <td>13035</td>\n",
       "      <td>Katy Perry</td>\n",
       "      <td>https://open.spotify.com/artist/6jJ0s89eD6GaHl...</td>\n",
       "      <td>harleys in hawaii</td>\n",
       "      <td>smile</td>\n",
       "      <td>album</td>\n",
       "      <td>spotify:track:3B4etxytImrRKQgV3XHjnR</td>\n",
       "      <td>0.72</td>\n",
       "      <td>0.75</td>\n",
       "      <td>10.0</td>\n",
       "      <td>...</td>\n",
       "      <td>https://www.youtube.com/watch?v=sQEgklEwhSo</td>\n",
       "      <td>katy perry - harleys in hawaii (official)</td>\n",
       "      <td>KatyPerryVEVO</td>\n",
       "      <td>1.081547e+08</td>\n",
       "      <td>1966195.0</td>\n",
       "      <td>69129.0</td>\n",
       "      <td>Katy Perry's new album \"Smile\" out August 28 -...</td>\n",
       "      <td>True</td>\n",
       "      <td>True</td>\n",
       "      <td>3.338720e+08</td>\n",
       "    </tr>\n",
       "    <tr>\n",
       "      <th>11914</th>\n",
       "      <td>13036</td>\n",
       "      <td>Katy Perry</td>\n",
       "      <td>https://open.spotify.com/artist/6jJ0s89eD6GaHl...</td>\n",
       "      <td>last friday night (t.g.i.f.)</td>\n",
       "      <td>teenage dream</td>\n",
       "      <td>album</td>\n",
       "      <td>spotify:track:3avYqdwHKEq8beXbeWCKqJ</td>\n",
       "      <td>0.65</td>\n",
       "      <td>0.81</td>\n",
       "      <td>3.0</td>\n",
       "      <td>...</td>\n",
       "      <td>https://www.youtube.com/watch?v=KlyXNRrsk4A</td>\n",
       "      <td>katy perry - last friday night (t.g.i.f.) (off...</td>\n",
       "      <td>KatyPerryVEVO</td>\n",
       "      <td>1.454602e+09</td>\n",
       "      <td>6701586.0</td>\n",
       "      <td>425561.0</td>\n",
       "      <td>CELEBRATING TEN YEARS OF TEENAGE DREAM!!\\nREMA...</td>\n",
       "      <td>True</td>\n",
       "      <td>True</td>\n",
       "      <td>7.554063e+08</td>\n",
       "    </tr>\n",
       "    <tr>\n",
       "      <th>11915</th>\n",
       "      <td>13037</td>\n",
       "      <td>Katy Perry</td>\n",
       "      <td>https://open.spotify.com/artist/6jJ0s89eD6GaHl...</td>\n",
       "      <td>firework</td>\n",
       "      <td>teenage dream</td>\n",
       "      <td>album</td>\n",
       "      <td>spotify:track:4r6eNCsrZnQWJzzvFh4nlg</td>\n",
       "      <td>0.64</td>\n",
       "      <td>0.83</td>\n",
       "      <td>8.0</td>\n",
       "      <td>...</td>\n",
       "      <td>https://www.youtube.com/watch?v=QGJuMBdaqIw</td>\n",
       "      <td>katy perry - firework (official music video)</td>\n",
       "      <td>KatyPerryVEVO</td>\n",
       "      <td>1.406704e+09</td>\n",
       "      <td>6231519.0</td>\n",
       "      <td>445941.0</td>\n",
       "      <td>CELEBRATING TEN YEARS OF TEENAGE DREAM!!\\nREMA...</td>\n",
       "      <td>True</td>\n",
       "      <td>True</td>\n",
       "      <td>7.776267e+08</td>\n",
       "    </tr>\n",
       "    <tr>\n",
       "      <th>11916</th>\n",
       "      <td>13038</td>\n",
       "      <td>Katy Perry</td>\n",
       "      <td>https://open.spotify.com/artist/6jJ0s89eD6GaHl...</td>\n",
       "      <td>california gurls</td>\n",
       "      <td>teenage dream</td>\n",
       "      <td>album</td>\n",
       "      <td>spotify:track:6KOEK6SeCEZOQkLj5M1PxH</td>\n",
       "      <td>0.79</td>\n",
       "      <td>0.75</td>\n",
       "      <td>0.0</td>\n",
       "      <td>...</td>\n",
       "      <td>https://www.youtube.com/watch?v=F57P9C4SAW4</td>\n",
       "      <td>katy perry - california gurls (official music ...</td>\n",
       "      <td>KatyPerryVEVO</td>\n",
       "      <td>6.744010e+08</td>\n",
       "      <td>3347202.0</td>\n",
       "      <td>145889.0</td>\n",
       "      <td>CELEBRATING TEN YEARS OF TEENAGE DREAM!!\\nREMA...</td>\n",
       "      <td>True</td>\n",
       "      <td>True</td>\n",
       "      <td>5.698082e+08</td>\n",
       "    </tr>\n",
       "  </tbody>\n",
       "</table>\n",
       "<p>10 rows × 28 columns</p>\n",
       "</div>"
      ],
      "text/plain": [
       "       Unnamed: 0      artist  \\\n",
       "11907       13029  Katy Perry   \n",
       "11908       13030  Katy Perry   \n",
       "11909       13031  Katy Perry   \n",
       "11910       13032  Katy Perry   \n",
       "11911       13033  Katy Perry   \n",
       "11912       13034  Katy Perry   \n",
       "11913       13035  Katy Perry   \n",
       "11914       13036  Katy Perry   \n",
       "11915       13037  Katy Perry   \n",
       "11916       13038  Katy Perry   \n",
       "\n",
       "                                             url_spotify  \\\n",
       "11907  https://open.spotify.com/artist/6jJ0s89eD6GaHl...   \n",
       "11908  https://open.spotify.com/artist/6jJ0s89eD6GaHl...   \n",
       "11909  https://open.spotify.com/artist/6jJ0s89eD6GaHl...   \n",
       "11910  https://open.spotify.com/artist/6jJ0s89eD6GaHl...   \n",
       "11911  https://open.spotify.com/artist/6jJ0s89eD6GaHl...   \n",
       "11912  https://open.spotify.com/artist/6jJ0s89eD6GaHl...   \n",
       "11913  https://open.spotify.com/artist/6jJ0s89eD6GaHl...   \n",
       "11914  https://open.spotify.com/artist/6jJ0s89eD6GaHl...   \n",
       "11915  https://open.spotify.com/artist/6jJ0s89eD6GaHl...   \n",
       "11916  https://open.spotify.com/artist/6jJ0s89eD6GaHl...   \n",
       "\n",
       "                                                   track  \\\n",
       "11907                                         dark horse   \n",
       "11908                                    unconditionally   \n",
       "11909                    when i’m gone (with katy perry)   \n",
       "11910                                               roar   \n",
       "11911  feels (feat. pharrell williams, katy perry & b...   \n",
       "11912                              the one that got away   \n",
       "11913                                  harleys in hawaii   \n",
       "11914                       last friday night (t.g.i.f.)   \n",
       "11915                                           firework   \n",
       "11916                                   california gurls   \n",
       "\n",
       "                                 album album_type  \\\n",
       "11907                            prism      album   \n",
       "11908                            prism      album   \n",
       "11909  when i’m gone (with katy perry)     single   \n",
       "11910                            prism      album   \n",
       "11911           funk wav bounces vol.1      album   \n",
       "11912                    teenage dream      album   \n",
       "11913                            smile      album   \n",
       "11914                    teenage dream      album   \n",
       "11915                    teenage dream      album   \n",
       "11916                    teenage dream      album   \n",
       "\n",
       "                                        uri  danceability  energy   key  ...  \\\n",
       "11907  spotify:track:4jbmgIyjGoXjY01XxatOx6          0.65    0.58   6.0  ...   \n",
       "11908  spotify:track:009ImBOrIUlWgla8U05RAC          0.43    0.72   7.0  ...   \n",
       "11909  spotify:track:5902W4uHWzhtOff1UK7the          0.69    0.89   0.0  ...   \n",
       "11910  spotify:track:27tNWlhdAryQY04Gb2ZhUI          0.67    0.77   7.0  ...   \n",
       "11911  spotify:track:5bcTCxgc7xVfSaMV3RuVke          0.89    0.74  11.0  ...   \n",
       "11912  spotify:track:6hkOqJ5mE093AQf2lbZnsG          0.69    0.80   1.0  ...   \n",
       "11913  spotify:track:3B4etxytImrRKQgV3XHjnR          0.72    0.75  10.0  ...   \n",
       "11914  spotify:track:3avYqdwHKEq8beXbeWCKqJ          0.65    0.81   3.0  ...   \n",
       "11915  spotify:track:4r6eNCsrZnQWJzzvFh4nlg          0.64    0.83   8.0  ...   \n",
       "11916  spotify:track:6KOEK6SeCEZOQkLj5M1PxH          0.79    0.75   0.0  ...   \n",
       "\n",
       "                                       url_youtube  \\\n",
       "11907  https://www.youtube.com/watch?v=0KSOMA3QBU0   \n",
       "11908  https://www.youtube.com/watch?v=XjwZAa2EjKA   \n",
       "11909  https://www.youtube.com/watch?v=N-4YMlihRf4   \n",
       "11910  https://www.youtube.com/watch?v=CevxZvSJLk8   \n",
       "11911  https://www.youtube.com/watch?v=ozv4q2ov3Mk   \n",
       "11912  https://www.youtube.com/watch?v=Ahha3Cqe_fk   \n",
       "11913  https://www.youtube.com/watch?v=sQEgklEwhSo   \n",
       "11914  https://www.youtube.com/watch?v=KlyXNRrsk4A   \n",
       "11915  https://www.youtube.com/watch?v=QGJuMBdaqIw   \n",
       "11916  https://www.youtube.com/watch?v=F57P9C4SAW4   \n",
       "\n",
       "                                                   title           channel  \\\n",
       "11907     katy perry - dark horse (official) ft. juicy j     KatyPerryVEVO   \n",
       "11908            katy perry - unconditionally (official)     KatyPerryVEVO   \n",
       "11909  alesso, katy perry - when i'm gone (official m...     KatyPerryVEVO   \n",
       "11910                       katy perry - roar (official)     KatyPerryVEVO   \n",
       "11911  calvin harris - feels (official video) ft. pha...  CalvinHarrisVEVO   \n",
       "11912  katy perry - the one that got away (official m...     KatyPerryVEVO   \n",
       "11913          katy perry - harleys in hawaii (official)     KatyPerryVEVO   \n",
       "11914  katy perry - last friday night (t.g.i.f.) (off...     KatyPerryVEVO   \n",
       "11915       katy perry - firework (official music video)     KatyPerryVEVO   \n",
       "11916  katy perry - california gurls (official music ...     KatyPerryVEVO   \n",
       "\n",
       "              views       likes  comments  \\\n",
       "11907  3.442527e+09  16342399.0  794592.0   \n",
       "11908  6.522712e+08   3433059.0  107580.0   \n",
       "11909  2.966849e+07    582383.0   69930.0   \n",
       "11910  3.725749e+09  15864499.0  763366.0   \n",
       "11911  6.734978e+08   4097989.0  105475.0   \n",
       "11912  9.530567e+08   4500259.0  225804.0   \n",
       "11913  1.081547e+08   1966195.0   69129.0   \n",
       "11914  1.454602e+09   6701586.0  425561.0   \n",
       "11915  1.406704e+09   6231519.0  445941.0   \n",
       "11916  6.744010e+08   3347202.0  145889.0   \n",
       "\n",
       "                                             description  licensed  \\\n",
       "11907  Listen to Katy’s new song “Smile”: https://kat...      True   \n",
       "11908  Download \"Unconditionally\" from Katy Perry's '...      True   \n",
       "11909  Alesso & Katy Perry - When I'm Gone (Official ...      True   \n",
       "11910  Katy Perry's new album \"Smile\" out August 28 -...      True   \n",
       "11911  Calvin Harris - Feels feat. Pharrell Williams,...      True   \n",
       "11912  CELEBRATING TEN YEARS OF TEENAGE DREAM!!\\nREMA...      True   \n",
       "11913  Katy Perry's new album \"Smile\" out August 28 -...      True   \n",
       "11914  CELEBRATING TEN YEARS OF TEENAGE DREAM!!\\nREMA...      True   \n",
       "11915  CELEBRATING TEN YEARS OF TEENAGE DREAM!!\\nREMA...      True   \n",
       "11916  CELEBRATING TEN YEARS OF TEENAGE DREAM!!\\nREMA...      True   \n",
       "\n",
       "      official_video        stream  \n",
       "11907           True  1.067827e+09  \n",
       "11908           True  4.566808e+08  \n",
       "11909           True  1.799929e+08  \n",
       "11910           True  8.847210e+08  \n",
       "11911           True  9.812871e+08  \n",
       "11912           True  6.001068e+08  \n",
       "11913           True  3.338720e+08  \n",
       "11914           True  7.554063e+08  \n",
       "11915           True  7.776267e+08  \n",
       "11916           True  5.698082e+08  \n",
       "\n",
       "[10 rows x 28 columns]"
      ]
     },
     "execution_count": 112,
     "metadata": {},
     "output_type": "execute_result"
    }
   ],
   "source": [
    "df_prueba.head(10)"
   ]
  },
  {
   "cell_type": "markdown",
   "metadata": {},
   "source": [
    "<li>Mostrad los resultados en una gráfica, seleccionado los 10 artistas con más colaboraciones.</li>"
   ]
  },
  {
   "cell_type": "code",
   "execution_count": 88,
   "metadata": {},
   "outputs": [
    {
     "data": {
      "image/png": "[encoded data removed]",
      "text/plain": [
       "<Figure size 1080x1440 with 1 Axes>"
      ]
     },
     "metadata": {
      "needs_background": "light"
     },
     "output_type": "display_data"
    }
   ],
   "source": [
    "plt.figure(figsize=(15,20))\n",
    "plt.bar(df_colab_top[\"artist\"], df_colab_top[\"track\"], color = 'coral')\n",
    "plt.show()"
   ]
  },
  {
   "cell_type": "markdown",
   "metadata": {},
   "source": [
    "<li>Deberéis contestar a las siguientes preguntas:<li>\n",
    "<ul>\n",
    "<li>¿Cuáles son los diez artistas que más han colaborado según los datos que tenemos?</li>\n",
    "<p> Macklemore, Juicy J, Ty Dolla, Dj Khaled, Wu-Tang Clan, B.o.B, Wizkid, Clean Bandit, Wale, Popcaan</p>\n",
    "<li>¿Cuál es el número de canciones en los que ha colaborado el artista que ocupa el primer lugar en el ranking?</li><p> Mcklemore con diez canciones </p>\n",
    "<li>¿Cuál es el artista que ocupa el décimo lugar en el ranking y en cuántas canciones ha colaborado?</li><p>Popcaan ocupa el décimo lugar con ocho canciones.</p>"
   ]
  },
  {
   "cell_type": "markdown",
   "metadata": {},
   "source": [
    "<li>Utilizando el dataframe original, queremos explorar si el tipo de álbum influye en la cantidad de vistas que recibe en una plataforma de transmisión de música. Para ello, debemos generar un boxplot con las variables necesarias y responder las siguientes preguntas:</li>"
   ]
  },
  {
   "cell_type": "markdown",
   "metadata": {},
   "source": [
    "<li>¿Qué tipo de álbumes tienden a tener más vistas en promedio?</li>"
   ]
  },
  {
   "cell_type": "code",
   "execution_count": 116,
   "metadata": {},
   "outputs": [
    {
     "data": {
      "image/png": "[encoded data removed]",
      "text/plain": [
       "<Figure size 1080x720 with 1 Axes>"
      ]
     },
     "metadata": {
      "needs_background": "light"
     },
     "output_type": "display_data"
    }
   ],
   "source": [
    "plt.figure(figsize=(15,10))\n",
    "fig = sns.boxplot(x=\"album_type\", y = \"views\", data=df)\n",
    "fig.set(xlabel = \"Album type\", ylabel = \"views\")\n",
    "fig.set_title(\"Relación entre el tipo de album y las visitas\")\n",
    "fig.set_ylim(0,2e8)\n",
    "plt.show()"
   ]
  },
  {
   "cell_type": "markdown",
   "metadata": {},
   "source": [
    "<ul>\n",
    "<li>¿Qué tipo de álbumes tienden a tener más vistas en promedio?</li>\n",
    "<p>De forma muy ajustada los álbumes.</p>\n",
    "<li>¿Hay algún tipo de álbumes que tenga una mayor dispersión en las vistas recibidas?</li>\n",
    "<p>Los álbumes, pero también hay que destacar los singles pues su caja es menor que las de otros discos pero tiene gran cantidad de outliers.</p>\n",
    "<li>¿Existen valores atípicos (outliers) en alguna categoría de álbumes?</li>\n",
    "<p>Sí, en todas</p>\n",
    "<li>¿Qué conclusión se puede obtener sobre la relación entre el tipo de álbum y la cantidad de vistas recibidas?</li>\n",
    "<p>Que aunque los singles puedan tener picos de popularidad mas efímeros la base de visualizaciones y popularidad a largo plazo predomina en los albumes y las compilaciones</p>\n",
    "</ul>"
   ]
  },
  {
   "cell_type": "code",
   "execution_count": null,
   "metadata": {},
   "outputs": [],
   "source": [
    "#Hacer un dataframe con los grupos de outliers y buscar que porcentaje son respecto al total"
   ]
  },
  {
   "cell_type": "markdown",
   "metadata": {},
   "source": []
  }
 ],
 "metadata": {
  "kernelspec": {
   "display_name": "base",
   "language": "python",
   "name": "python3"
  },
  "language_info": {
   "codemirror_mode": {
    "name": "ipython",
    "version": 3
   },
   "file_extension": ".py",
   "mimetype": "text/x-python",
   "name": "python",
   "nbconvert_exporter": "python",
   "pygments_lexer": "ipython3",
   "version": "3.9.7"
  },
  "orig_nbformat": 4
 },
 "nbformat": 4,
 "nbformat_minor": 2
}
