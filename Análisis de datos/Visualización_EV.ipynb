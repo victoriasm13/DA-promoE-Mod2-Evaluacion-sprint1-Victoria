{
 "cells": [
  {
   "cell_type": "code",
   "execution_count": 2,
   "metadata": {},
   "outputs": [],
   "source": [
    "import pandas as pd\n",
    "import matplotlib.pyplot as plt\n",
    "import seaborn as sns\n",
    "import numpy as np "
   ]
  },
  {
   "cell_type": "code",
   "execution_count": 3,
   "metadata": {},
   "outputs": [],
   "source": [
    "#Cargamos el dataframe limpio\n",
    "df = pd.read_csv(\"datos/SpotifyYtlimpio.csv\")"
   ]
  },
  {
   "cell_type": "markdown",
   "metadata": {},
   "source": [
    "<h2> Filtrado y Visualziación </h2>\n",
    "<li>¿Cuáles son los valores únicos de la columna \"album_type\"? Cread tres dataframes diferentes, uno para cada tipo de \"album_type\". ¿Cuántas canciones tenemos en cada tipo?</li>"
   ]
  },
  {
   "cell_type": "code",
   "execution_count": 4,
   "metadata": {},
   "outputs": [
    {
     "data": {
      "text/plain": [
       "array(['album', 'single', 'compilation'], dtype=object)"
      ]
     },
     "execution_count": 4,
     "metadata": {},
     "output_type": "execute_result"
    }
   ],
   "source": [
    "#Vemos los valores únicos de album type\n",
    "df[\"album_type\"].unique()"
   ]
  },
  {
   "cell_type": "code",
   "execution_count": 5,
   "metadata": {},
   "outputs": [],
   "source": [
    "df_album = df[df[\"album_type\"] == \"album\"]\n",
    "df_single = df[df[\"album_type\"]== \"single\"]\n",
    "df_compilation = df[df[\"album_type\"] == \"compilation\"]"
   ]
  },
  {
   "cell_type": "code",
   "execution_count": 6,
   "metadata": {},
   "outputs": [
    {
     "data": {
      "text/plain": [
       "(13845, 28)"
      ]
     },
     "execution_count": 6,
     "metadata": {},
     "output_type": "execute_result"
    }
   ],
   "source": [
    "df_album.shape"
   ]
  },
  {
   "cell_type": "code",
   "execution_count": 7,
   "metadata": {},
   "outputs": [
    {
     "data": {
      "text/plain": [
       "(4636, 28)"
      ]
     },
     "execution_count": 7,
     "metadata": {},
     "output_type": "execute_result"
    }
   ],
   "source": [
    "df_single.shape"
   ]
  },
  {
   "cell_type": "code",
   "execution_count": 8,
   "metadata": {},
   "outputs": [
    {
     "data": {
      "text/plain": [
       "(689, 28)"
      ]
     },
     "execution_count": 8,
     "metadata": {},
     "output_type": "execute_result"
    }
   ],
   "source": [
    "df_compilation.shape"
   ]
  },
  {
   "cell_type": "markdown",
   "metadata": {},
   "source": [
    "<li>Usando el dataframe de los albumes que hemos creado en el ejercicio anterior. ¿Cuál es la media y la desviación estándar de \"danceability\", \"acousticness\" y \"speechiness\" de cada artista?. Mostrad los resultados en tres dataframes diferentes, uno para cada métrica (\"danceability\", \"acousticness\" y \"speechiness\"). Ordenar los resultados de mayor a menor en base a la media.</li>"
   ]
  },
  {
   "cell_type": "code",
   "execution_count": 17,
   "metadata": {},
   "outputs": [],
   "source": [
    "media_dc = df_album[\"danceability\"].mean()\n",
    "std_dc = df_album[\"danceability\"].std()\n",
    "media_ac = df_album[\"acousticness\"].mean()\n",
    "std_ac = df_album[\"acousticness\"].std()\n",
    "media_sp = df_album[\"speechiness\"].mean()\n",
    "std_sp = df_album[\"speechiness\"].std()"
   ]
  },
  {
   "cell_type": "code",
   "execution_count": 15,
   "metadata": {},
   "outputs": [],
   "source": [
    "data = {'media':[media_dc,media_ac,media_sp], 'std': [std_dc,std_ac,std_sp]}\n",
    "df_data = pd.DataFrame.from_dict(data, orient='index', columns=['danceability', 'acousticness', 'speechiness']).round(2)"
   ]
  },
  {
   "cell_type": "code",
   "execution_count": 16,
   "metadata": {},
   "outputs": [
    {
     "data": {
      "text/html": [
       "<div>\n",
       "<style scoped>\n",
       "    .dataframe tbody tr th:only-of-type {\n",
       "        vertical-align: middle;\n",
       "    }\n",
       "\n",
       "    .dataframe tbody tr th {\n",
       "        vertical-align: top;\n",
       "    }\n",
       "\n",
       "    .dataframe thead th {\n",
       "        text-align: right;\n",
       "    }\n",
       "</style>\n",
       "<table border=\"1\" class=\"dataframe\">\n",
       "  <thead>\n",
       "    <tr style=\"text-align: right;\">\n",
       "      <th></th>\n",
       "      <th>danceability</th>\n",
       "      <th>acousticness</th>\n",
       "      <th>speechiness</th>\n",
       "    </tr>\n",
       "  </thead>\n",
       "  <tbody>\n",
       "    <tr>\n",
       "      <th>media</th>\n",
       "      <td>0.61</td>\n",
       "      <td>0.29</td>\n",
       "      <td>0.09</td>\n",
       "    </tr>\n",
       "    <tr>\n",
       "      <th>std</th>\n",
       "      <td>0.17</td>\n",
       "      <td>0.29</td>\n",
       "      <td>0.11</td>\n",
       "    </tr>\n",
       "  </tbody>\n",
       "</table>\n",
       "</div>"
      ],
      "text/plain": [
       "       danceability  acousticness  speechiness\n",
       "media          0.61          0.29         0.09\n",
       "std            0.17          0.29         0.11"
      ]
     },
     "execution_count": 16,
     "metadata": {},
     "output_type": "execute_result"
    }
   ],
   "source": [
    "df_data"
   ]
  },
  {
   "cell_type": "markdown",
   "metadata": {},
   "source": [
    "<li>Se quiere estudiar si existe una relación entre la cantidad de visitas que reciben los videos de música de un artista en una plataforma de streaming y la cantidad de likes que estos videos obtienen. Por lo tanto, querremos contestar a la siguiente pregunta: ¿Son aquellos artistas que tienen más visitas los que más likes tienen? Para solucionar este ejercicio deberéis:<li>\n",
    "<ul>\n",
    "<li>Agrupar por artista y calcular la media de visitas y de likes</li>\n",
    "</ul>"
   ]
  },
  {
   "cell_type": "code",
   "execution_count": 44,
   "metadata": {},
   "outputs": [],
   "source": [
    "df_artist = df_album.groupby(\"artist\")[\"views\"].mean().round(2).reset_index()\n",
    "df_artist1 = df_album.groupby(\"artist\")[\"likes\"].mean().round(2).reset_index()"
   ]
  },
  {
   "cell_type": "code",
   "execution_count": 45,
   "metadata": {},
   "outputs": [],
   "source": [
    "dfmerge = df_artist.merge(df_artist1)"
   ]
  },
  {
   "cell_type": "markdown",
   "metadata": {},
   "source": [
    "<li>Quedaros con los 10 artistas que más visitas han tenido.</li>"
   ]
  },
  {
   "cell_type": "code",
   "execution_count": 49,
   "metadata": {},
   "outputs": [],
   "source": [
    "df_popviews = dfmerge.sort_values(by=['views'], ascending= False)\n",
    "df_popviews_top =df_popviews.head(10)"
   ]
  },
  {
   "cell_type": "code",
   "execution_count": 50,
   "metadata": {},
   "outputs": [],
   "source": [
    "df_poplikes = dfmerge.sort_values(by=[\"likes\"], ascending= False)\n",
    "df_poplikes_top = df_poplikes.head(10)"
   ]
  },
  {
   "cell_type": "markdown",
   "metadata": {},
   "source": [
    "<li>Haced un subplot, donde en uno tengamos los 10 artistas con más likes y en el otro los 10 artistas con mas views.</li>"
   ]
  },
  {
   "cell_type": "code",
   "execution_count": 59,
   "metadata": {},
   "outputs": [
    {
     "data": {
      "image/png": "[encoded data removed]",
      "text/plain": [
       "<Figure size 1080x720 with 2 Axes>"
      ]
     },
     "metadata": {
      "needs_background": "light"
     },
     "output_type": "display_data"
    }
   ],
   "source": [
    "fig,ax = plt.subplots(2,1, figsize = (15,10))\n",
    "ax[0].bar(df_popviews_top[\"artist\"],df_popviews_top[\"views\"], color = \"blue\")\n",
    "ax[1].bar(df_poplikes_top[\"artist\"], df_poplikes_top[\"likes\"], color =\"coral\")\n",
    "ax[0].set_title(\"Top 10 visualizaciones\")\n",
    "ax[1].set_title(\"Top 10 likes\")\n",
    "plt.show()"
   ]
  },
  {
   "cell_type": "markdown",
   "metadata": {},
   "source": [
    "<li>BONUS Haced lo mismo para los datos de tipo \"single\".</li>"
   ]
  },
  {
   "cell_type": "code",
   "execution_count": null,
   "metadata": {},
   "outputs": [],
   "source": []
  },
  {
   "cell_type": "markdown",
   "metadata": {},
   "source": [
    "<p>Ahora queremos analizar la colaboración entre artistas en la industria musical, se tienen datos de las colaboraciones realizadas en los últimos años. Se desea conocer cuáles son los artistas que han colaborado en mayor cantidad de canciones y generar un ranking con los diez primeros. ¿Qué artistas con los que más colaboraciones tienen? Para esto tendréis que:</p>\n",
    "<li>Filtrad los datos para quedaros solo con aquellos datos donde en la columna \"track\" tengamos \"feat\".</li>"
   ]
  },
  {
   "cell_type": "code",
   "execution_count": 60,
   "metadata": {},
   "outputs": [
    {
     "data": {
      "text/html": [
       "<div>\n",
       "<style scoped>\n",
       "    .dataframe tbody tr th:only-of-type {\n",
       "        vertical-align: middle;\n",
       "    }\n",
       "\n",
       "    .dataframe tbody tr th {\n",
       "        vertical-align: top;\n",
       "    }\n",
       "\n",
       "    .dataframe thead th {\n",
       "        text-align: right;\n",
       "    }\n",
       "</style>\n",
       "<table border=\"1\" class=\"dataframe\">\n",
       "  <thead>\n",
       "    <tr style=\"text-align: right;\">\n",
       "      <th></th>\n",
       "      <th>Unnamed: 0</th>\n",
       "      <th>artist</th>\n",
       "      <th>url_spotify</th>\n",
       "      <th>track</th>\n",
       "      <th>album</th>\n",
       "      <th>album_type</th>\n",
       "      <th>uri</th>\n",
       "      <th>danceability</th>\n",
       "      <th>energy</th>\n",
       "      <th>key</th>\n",
       "      <th>...</th>\n",
       "      <th>url_youtube</th>\n",
       "      <th>title</th>\n",
       "      <th>channel</th>\n",
       "      <th>views</th>\n",
       "      <th>likes</th>\n",
       "      <th>comments</th>\n",
       "      <th>description</th>\n",
       "      <th>licensed</th>\n",
       "      <th>official_video</th>\n",
       "      <th>stream</th>\n",
       "    </tr>\n",
       "  </thead>\n",
       "  <tbody>\n",
       "    <tr>\n",
       "      <th>2</th>\n",
       "      <td>2</td>\n",
       "      <td>Gorillaz</td>\n",
       "      <td>https://open.spotify.com/artist/3AA28KZvwAUcZu...</td>\n",
       "      <td>new gold (feat. tame impala and bootie brown)</td>\n",
       "      <td>new gold (feat. tame impala and bootie brown)</td>\n",
       "      <td>single</td>\n",
       "      <td>spotify:track:64dLd6rVqDLtkXFYrEUHIU</td>\n",
       "      <td>0.69</td>\n",
       "      <td>0.92</td>\n",
       "      <td>1.0</td>\n",
       "      <td>...</td>\n",
       "      <td>https://www.youtube.com/watch?v=qJa-VFwPpYA</td>\n",
       "      <td>gorillaz - new gold ft. tame impala &amp; bootie b...</td>\n",
       "      <td>Gorillaz</td>\n",
       "      <td>8435055.0</td>\n",
       "      <td>282142.0</td>\n",
       "      <td>7399.0</td>\n",
       "      <td>Gorillaz - New Gold ft. Tame Impala &amp; Bootie B...</td>\n",
       "      <td>True</td>\n",
       "      <td>True</td>\n",
       "      <td>63063467.0</td>\n",
       "    </tr>\n",
       "    <tr>\n",
       "      <th>6</th>\n",
       "      <td>6</td>\n",
       "      <td>Gorillaz</td>\n",
       "      <td>https://open.spotify.com/artist/3AA28KZvwAUcZu...</td>\n",
       "      <td>new gold (feat. tame impala and bootie brown) ...</td>\n",
       "      <td>new gold (feat. tame impala and bootie brown) ...</td>\n",
       "      <td>single</td>\n",
       "      <td>spotify:track:2c3KCGq6UojB2c8UAFrRON</td>\n",
       "      <td>0.72</td>\n",
       "      <td>0.90</td>\n",
       "      <td>4.0</td>\n",
       "      <td>...</td>\n",
       "      <td>https://www.youtube.com/watch?v=BONNm0F7Tto</td>\n",
       "      <td>gorillaz - new gold ft. tame impala, bootie br...</td>\n",
       "      <td>Dom Dolla</td>\n",
       "      <td>451996.0</td>\n",
       "      <td>11686.0</td>\n",
       "      <td>241.0</td>\n",
       "      <td>Gorillaz 'New Gold' ft. Tame Impala, Bootie Br...</td>\n",
       "      <td>False</td>\n",
       "      <td>True</td>\n",
       "      <td>10666154.0</td>\n",
       "    </tr>\n",
       "    <tr>\n",
       "      <th>7</th>\n",
       "      <td>7</td>\n",
       "      <td>Gorillaz</td>\n",
       "      <td>https://open.spotify.com/artist/3AA28KZvwAUcZu...</td>\n",
       "      <td>she's my collar (feat. kali uchis)</td>\n",
       "      <td>humanz (deluxe)</td>\n",
       "      <td>album</td>\n",
       "      <td>spotify:track:3lIxtCaROdRDuTnNBDm3n2</td>\n",
       "      <td>0.73</td>\n",
       "      <td>0.81</td>\n",
       "      <td>11.0</td>\n",
       "      <td>...</td>\n",
       "      <td>https://www.youtube.com/watch?v=f8NwLXYIHS4</td>\n",
       "      <td>gorillaz - she's my collar [hq]</td>\n",
       "      <td>SalvaMuñox</td>\n",
       "      <td>1010982.0</td>\n",
       "      <td>17675.0</td>\n",
       "      <td>260.0</td>\n",
       "      <td>𝐁̲𝐎̲𝐍̲𝐔̲𝐒̲:̲ Hu̳ma̳n̳z [̲̠̲𝐃̲̠̲𝐄̲̠̲𝐅̲̠̲𝐈̲̠̲𝐍̲̠...</td>\n",
       "      <td>False</td>\n",
       "      <td>False</td>\n",
       "      <td>159605929.0</td>\n",
       "    </tr>\n",
       "    <tr>\n",
       "      <th>8</th>\n",
       "      <td>8</td>\n",
       "      <td>Gorillaz</td>\n",
       "      <td>https://open.spotify.com/artist/3AA28KZvwAUcZu...</td>\n",
       "      <td>cracker island (feat. thundercat)</td>\n",
       "      <td>cracker island (feat. thundercat)</td>\n",
       "      <td>single</td>\n",
       "      <td>spotify:track:2W3ZpQg9i6lE6kmHbcdu9N</td>\n",
       "      <td>0.74</td>\n",
       "      <td>0.91</td>\n",
       "      <td>2.0</td>\n",
       "      <td>...</td>\n",
       "      <td>https://www.youtube.com/watch?v=S03T47hapAc</td>\n",
       "      <td>gorillaz - cracker island ft. thundercat (offi...</td>\n",
       "      <td>Gorillaz</td>\n",
       "      <td>24459820.0</td>\n",
       "      <td>739527.0</td>\n",
       "      <td>20296.0</td>\n",
       "      <td>Listen to Cracker Island: https://gorillaz.lnk...</td>\n",
       "      <td>True</td>\n",
       "      <td>True</td>\n",
       "      <td>42671901.0</td>\n",
       "    </tr>\n",
       "    <tr>\n",
       "      <th>27</th>\n",
       "      <td>27</td>\n",
       "      <td>50 Cent</td>\n",
       "      <td>https://open.spotify.com/artist/3q7HBObVc0L8jN...</td>\n",
       "      <td>is this love ('09) (feat. 50 cent)</td>\n",
       "      <td>curtain call 2</td>\n",
       "      <td>album</td>\n",
       "      <td>spotify:track:7rK0iM6jwuo1oizdx8suQA</td>\n",
       "      <td>0.85</td>\n",
       "      <td>0.78</td>\n",
       "      <td>8.0</td>\n",
       "      <td>...</td>\n",
       "      <td>https://www.youtube.com/watch?v=Zl64MRAqQxk</td>\n",
       "      <td>eminem, 50 cent - is this love ('09) [visualizer]</td>\n",
       "      <td>EminemVEVO</td>\n",
       "      <td>5289821.0</td>\n",
       "      <td>245935.0</td>\n",
       "      <td>9008.0</td>\n",
       "      <td>Listen to \"Curtain Call 2\": \\nhttps://Eminem.l...</td>\n",
       "      <td>True</td>\n",
       "      <td>True</td>\n",
       "      <td>28529840.0</td>\n",
       "    </tr>\n",
       "  </tbody>\n",
       "</table>\n",
       "<p>5 rows × 28 columns</p>\n",
       "</div>"
      ],
      "text/plain": [
       "    Unnamed: 0    artist                                        url_spotify  \\\n",
       "2            2  Gorillaz  https://open.spotify.com/artist/3AA28KZvwAUcZu...   \n",
       "6            6  Gorillaz  https://open.spotify.com/artist/3AA28KZvwAUcZu...   \n",
       "7            7  Gorillaz  https://open.spotify.com/artist/3AA28KZvwAUcZu...   \n",
       "8            8  Gorillaz  https://open.spotify.com/artist/3AA28KZvwAUcZu...   \n",
       "27          27   50 Cent  https://open.spotify.com/artist/3q7HBObVc0L8jN...   \n",
       "\n",
       "                                                track  \\\n",
       "2       new gold (feat. tame impala and bootie brown)   \n",
       "6   new gold (feat. tame impala and bootie brown) ...   \n",
       "7                  she's my collar (feat. kali uchis)   \n",
       "8                   cracker island (feat. thundercat)   \n",
       "27                 is this love ('09) (feat. 50 cent)   \n",
       "\n",
       "                                                album album_type  \\\n",
       "2       new gold (feat. tame impala and bootie brown)     single   \n",
       "6   new gold (feat. tame impala and bootie brown) ...     single   \n",
       "7                                     humanz (deluxe)      album   \n",
       "8                   cracker island (feat. thundercat)     single   \n",
       "27                                     curtain call 2      album   \n",
       "\n",
       "                                     uri  danceability  energy   key  ...  \\\n",
       "2   spotify:track:64dLd6rVqDLtkXFYrEUHIU          0.69    0.92   1.0  ...   \n",
       "6   spotify:track:2c3KCGq6UojB2c8UAFrRON          0.72    0.90   4.0  ...   \n",
       "7   spotify:track:3lIxtCaROdRDuTnNBDm3n2          0.73    0.81  11.0  ...   \n",
       "8   spotify:track:2W3ZpQg9i6lE6kmHbcdu9N          0.74    0.91   2.0  ...   \n",
       "27  spotify:track:7rK0iM6jwuo1oizdx8suQA          0.85    0.78   8.0  ...   \n",
       "\n",
       "                                    url_youtube  \\\n",
       "2   https://www.youtube.com/watch?v=qJa-VFwPpYA   \n",
       "6   https://www.youtube.com/watch?v=BONNm0F7Tto   \n",
       "7   https://www.youtube.com/watch?v=f8NwLXYIHS4   \n",
       "8   https://www.youtube.com/watch?v=S03T47hapAc   \n",
       "27  https://www.youtube.com/watch?v=Zl64MRAqQxk   \n",
       "\n",
       "                                                title     channel       views  \\\n",
       "2   gorillaz - new gold ft. tame impala & bootie b...    Gorillaz   8435055.0   \n",
       "6   gorillaz - new gold ft. tame impala, bootie br...   Dom Dolla    451996.0   \n",
       "7                     gorillaz - she's my collar [hq]  SalvaMuñox   1010982.0   \n",
       "8   gorillaz - cracker island ft. thundercat (offi...    Gorillaz  24459820.0   \n",
       "27  eminem, 50 cent - is this love ('09) [visualizer]  EminemVEVO   5289821.0   \n",
       "\n",
       "       likes  comments                                        description  \\\n",
       "2   282142.0    7399.0  Gorillaz - New Gold ft. Tame Impala & Bootie B...   \n",
       "6    11686.0     241.0  Gorillaz 'New Gold' ft. Tame Impala, Bootie Br...   \n",
       "7    17675.0     260.0  𝐁̲𝐎̲𝐍̲𝐔̲𝐒̲:̲ Hu̳ma̳n̳z [̲̠̲𝐃̲̠̲𝐄̲̠̲𝐅̲̠̲𝐈̲̠̲𝐍̲̠...   \n",
       "8   739527.0   20296.0  Listen to Cracker Island: https://gorillaz.lnk...   \n",
       "27  245935.0    9008.0  Listen to \"Curtain Call 2\": \\nhttps://Eminem.l...   \n",
       "\n",
       "    licensed official_video       stream  \n",
       "2       True           True   63063467.0  \n",
       "6      False           True   10666154.0  \n",
       "7      False          False  159605929.0  \n",
       "8       True           True   42671901.0  \n",
       "27      True           True   28529840.0  \n",
       "\n",
       "[5 rows x 28 columns]"
      ]
     },
     "execution_count": 60,
     "metadata": {},
     "output_type": "execute_result"
    }
   ],
   "source": [
    "patron = \"feat\"\n",
    "colaboraciones = df[df[\"track\"].str.contains(patron, regex= True)]\n",
    "colaboraciones.head()"
   ]
  },
  {
   "cell_type": "markdown",
   "metadata": {},
   "source": [
    "<li>Contad cuantas canciones tiene cada artista utilizando el dataframe generado en el paso anterior.</li>"
   ]
  },
  {
   "cell_type": "code",
   "execution_count": 81,
   "metadata": {},
   "outputs": [],
   "source": [
    "df_colab = colaboraciones.groupby(\"artist\")[\"track\"].count().reset_index()"
   ]
  },
  {
   "cell_type": "code",
   "execution_count": 83,
   "metadata": {},
   "outputs": [],
   "source": [
    "df_colab = df_colab.sort_values(by=[\"track\"], ascending = False)"
   ]
  },
  {
   "cell_type": "code",
   "execution_count": 84,
   "metadata": {},
   "outputs": [
    {
     "data": {
      "text/html": [
       "<div>\n",
       "<style scoped>\n",
       "    .dataframe tbody tr th:only-of-type {\n",
       "        vertical-align: middle;\n",
       "    }\n",
       "\n",
       "    .dataframe tbody tr th {\n",
       "        vertical-align: top;\n",
       "    }\n",
       "\n",
       "    .dataframe thead th {\n",
       "        text-align: right;\n",
       "    }\n",
       "</style>\n",
       "<table border=\"1\" class=\"dataframe\">\n",
       "  <thead>\n",
       "    <tr style=\"text-align: right;\">\n",
       "      <th></th>\n",
       "      <th>artist</th>\n",
       "      <th>track</th>\n",
       "    </tr>\n",
       "  </thead>\n",
       "  <tbody>\n",
       "    <tr>\n",
       "      <th>387</th>\n",
       "      <td>Macklemore</td>\n",
       "      <td>10</td>\n",
       "    </tr>\n",
       "    <tr>\n",
       "      <th>293</th>\n",
       "      <td>Juicy J</td>\n",
       "      <td>10</td>\n",
       "    </tr>\n",
       "    <tr>\n",
       "      <th>625</th>\n",
       "      <td>Ty Dolla ign</td>\n",
       "      <td>9</td>\n",
       "    </tr>\n",
       "    <tr>\n",
       "      <th>134</th>\n",
       "      <td>DJ Khaled</td>\n",
       "      <td>9</td>\n",
       "    </tr>\n",
       "    <tr>\n",
       "      <th>646</th>\n",
       "      <td>Wu-Tang Clan</td>\n",
       "      <td>9</td>\n",
       "    </tr>\n",
       "    <tr>\n",
       "      <th>46</th>\n",
       "      <td>B.o.B</td>\n",
       "      <td>8</td>\n",
       "    </tr>\n",
       "    <tr>\n",
       "      <th>645</th>\n",
       "      <td>Wizkid</td>\n",
       "      <td>8</td>\n",
       "    </tr>\n",
       "    <tr>\n",
       "      <th>121</th>\n",
       "      <td>Clean Bandit</td>\n",
       "      <td>8</td>\n",
       "    </tr>\n",
       "    <tr>\n",
       "      <th>637</th>\n",
       "      <td>Wale</td>\n",
       "      <td>8</td>\n",
       "    </tr>\n",
       "    <tr>\n",
       "      <th>498</th>\n",
       "      <td>Popcaan</td>\n",
       "      <td>8</td>\n",
       "    </tr>\n",
       "  </tbody>\n",
       "</table>\n",
       "</div>"
      ],
      "text/plain": [
       "           artist  track\n",
       "387    Macklemore     10\n",
       "293       Juicy J     10\n",
       "625  Ty Dolla ign      9\n",
       "134     DJ Khaled      9\n",
       "646  Wu-Tang Clan      9\n",
       "46          B.o.B      8\n",
       "645        Wizkid      8\n",
       "121  Clean Bandit      8\n",
       "637          Wale      8\n",
       "498       Popcaan      8"
      ]
     },
     "execution_count": 84,
     "metadata": {},
     "output_type": "execute_result"
    }
   ],
   "source": [
    "df_colab_top = df_colab.head(10)\n",
    "df_colab_top"
   ]
  },
  {
   "cell_type": "markdown",
   "metadata": {},
   "source": [
    "<li>Mostrad los resultados en una gráfica, seleccionado los 10 artistas con más colaboraciones.</li>"
   ]
  },
  {
   "cell_type": "code",
   "execution_count": 88,
   "metadata": {},
   "outputs": [
    {
     "data": {
      "image/png": "[encoded data removed]",
      "text/plain": [
       "<Figure size 1080x1440 with 1 Axes>"
      ]
     },
     "metadata": {
      "needs_background": "light"
     },
     "output_type": "display_data"
    }
   ],
   "source": [
    "plt.figure(figsize=(15,20))\n",
    "plt.bar(df_colab_top[\"artist\"], df_colab_top[\"track\"], color = 'coral')\n",
    "plt.show()"
   ]
  }
 ],
 "metadata": {
  "kernelspec": {
   "display_name": "base",
   "language": "python",
   "name": "python3"
  },
  "language_info": {
   "codemirror_mode": {
    "name": "ipython",
    "version": 3
   },
   "file_extension": ".py",
   "mimetype": "text/x-python",
   "name": "python",
   "nbconvert_exporter": "python",
   "pygments_lexer": "ipython3",
   "version": "3.9.7"
  },
  "orig_nbformat": 4
 },
 "nbformat": 4,
 "nbformat_minor": 2
}
