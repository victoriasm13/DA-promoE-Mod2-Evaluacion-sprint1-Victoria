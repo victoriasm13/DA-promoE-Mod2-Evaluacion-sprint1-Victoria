{
 "cells": [
  {
   "cell_type": "markdown",
   "metadata": {},
   "source": [
    "<p>1. Importa la librería de NumPy. </p>"
   ]
  },
  {
   "cell_type": "code",
   "execution_count": 2,
   "metadata": {},
   "outputs": [],
   "source": [
    "import numpy as np "
   ]
  },
  {
   "cell_type": "markdown",
   "metadata": {},
   "source": [
    "<p>2. Crea un array de 1 dimension y 10 elementos.</p>"
   ]
  },
  {
   "cell_type": "code",
   "execution_count": 3,
   "metadata": {},
   "outputs": [
    {
     "data": {
      "text/plain": [
       "array([8, 3, 3, 9, 9, 2, 1, 2, 9, 6])"
      ]
     },
     "execution_count": 3,
     "metadata": {},
     "output_type": "execute_result"
    }
   ],
   "source": [
    "array =  np.random.randint(10, size = 10)\n",
    "array "
   ]
  },
  {
   "cell_type": "markdown",
   "metadata": {},
   "source": [
    "<p>3. Reemplaza todos los números impares por el valor \"impar\" y los pares por \"par\". Para hacer esto os tendréis que crear un array nuevo donde vayáis añadiendo los valores nuevos.</p>"
   ]
  },
  {
   "cell_type": "code",
   "execution_count": 4,
   "metadata": {},
   "outputs": [],
   "source": [
    "arrayn = []\n",
    "\n",
    "for i in array:\n",
    "    if i%2 == 0:\n",
    "        arrayn.append(\"par\")\n",
    "    else:\n",
    "        arrayn.append(\"impar\")"
   ]
  },
  {
   "cell_type": "code",
   "execution_count": 5,
   "metadata": {},
   "outputs": [
    {
     "data": {
      "text/plain": [
       "['par',\n",
       " 'impar',\n",
       " 'impar',\n",
       " 'impar',\n",
       " 'impar',\n",
       " 'par',\n",
       " 'impar',\n",
       " 'par',\n",
       " 'impar',\n",
       " 'par']"
      ]
     },
     "execution_count": 5,
     "metadata": {},
     "output_type": "execute_result"
    }
   ],
   "source": [
    "arrayn"
   ]
  },
  {
   "cell_type": "markdown",
   "metadata": {},
   "source": [
    "<p>4. Cambiad la forma del array del ejercicio 3 a un array de 2 filas y 5 columnas.</p>"
   ]
  },
  {
   "cell_type": "code",
   "execution_count": 6,
   "metadata": {},
   "outputs": [
    {
     "data": {
      "text/plain": [
       "array([['par', 'impar', 'impar', 'impar', 'impar'],\n",
       "       ['par', 'impar', 'par', 'impar', 'par']], dtype='<U5')"
      ]
     },
     "execution_count": 6,
     "metadata": {},
     "output_type": "execute_result"
    }
   ],
   "source": [
    "arrayan = np.reshape(arrayn, (2,5))\n",
    "arrayan"
   ]
  },
  {
   "cell_type": "markdown",
   "metadata": {},
   "source": [
    "<p>5. Extrae los elementos comunes de los siguientes arrays</p>\n",
    "<ul>\n",
    "<li>array1 = np.array([1,2,3,2,3,4,3,4,5,6])</li>\n",
    "<li>array2 = np.array([7,2,10,2,7,4,9,4,9,8])</li>\n",
    "</ul>"
   ]
  },
  {
   "cell_type": "code",
   "execution_count": 7,
   "metadata": {},
   "outputs": [],
   "source": [
    "array1 = np.array([1,2,3,2,3,4,3,4,5,6])\n",
    "array2 = np.array([7,2,10,2,7,4,9,4,9,8])"
   ]
  },
  {
   "cell_type": "code",
   "execution_count": 8,
   "metadata": {},
   "outputs": [
    {
     "data": {
      "text/plain": [
       "array([2, 4])"
      ]
     },
     "execution_count": 8,
     "metadata": {},
     "output_type": "execute_result"
    }
   ],
   "source": [
    "np.intersect1d(array1,array2)"
   ]
  },
  {
   "cell_type": "markdown",
   "metadata": {},
   "source": [
    "<p>6. Extraed los elementos que están en el array1 pero no en el array2.</p>"
   ]
  },
  {
   "cell_type": "code",
   "execution_count": 9,
   "metadata": {},
   "outputs": [
    {
     "data": {
      "text/plain": [
       "array([1, 3, 5, 6])"
      ]
     },
     "execution_count": 9,
     "metadata": {},
     "output_type": "execute_result"
    }
   ],
   "source": [
    "np.setdiff1d(array1,array2)"
   ]
  },
  {
   "cell_type": "markdown",
   "metadata": {},
   "source": [
    "<p>7.Extraed las posiciones donde tengamos elementos que sean iguales.</p>"
   ]
  },
  {
   "cell_type": "code",
   "execution_count": 10,
   "metadata": {},
   "outputs": [],
   "source": [
    "array_iguales, array1index, array2index = np.intersect1d(array1, array2, return_indices=True)"
   ]
  },
  {
   "cell_type": "code",
   "execution_count": 11,
   "metadata": {},
   "outputs": [
    {
     "name": "stdout",
     "output_type": "stream",
     "text": [
      "[1 5] [1 5]\n"
     ]
    }
   ],
   "source": [
    "print(array1index,array2index)"
   ]
  },
  {
   "cell_type": "markdown",
   "metadata": {},
   "source": [
    "<p>8. Cread un array de 3 filas y 5 columnas, con números enteros del 0 al 50. Una vez creado, extrae los valores que sean menores que 10 y mayores que 40.</p>"
   ]
  },
  {
   "cell_type": "code",
   "execution_count": 12,
   "metadata": {},
   "outputs": [
    {
     "data": {
      "text/plain": [
       "array([[32, 24,  2, 47,  3],\n",
       "       [ 7,  4,  0, 41, 16],\n",
       "       [39,  8,  4, 22, 42]])"
      ]
     },
     "execution_count": 12,
     "metadata": {},
     "output_type": "execute_result"
    }
   ],
   "source": [
    "array3 = np.random.randint(50, size = (3,5))\n",
    "array3"
   ]
  },
  {
   "cell_type": "code",
   "execution_count": 13,
   "metadata": {},
   "outputs": [],
   "source": [
    "array3_lista = []\n",
    "for i in array3:\n",
    "    for j in i:\n",
    "        if  j < 10 or j > 40:\n",
    "            array3_lista.append(j)\n",
    "        "
   ]
  },
  {
   "cell_type": "code",
   "execution_count": 14,
   "metadata": {},
   "outputs": [
    {
     "data": {
      "text/plain": [
       "[2, 47, 3, 7, 4, 0, 41, 8, 4, 42]"
      ]
     },
     "execution_count": 14,
     "metadata": {},
     "output_type": "execute_result"
    }
   ],
   "source": [
    "array3_lista"
   ]
  },
  {
   "cell_type": "markdown",
   "metadata": {},
   "source": [
    "<p>9.Cread un array de 5x3 con números decimales aleatorios entre el 5 y el 10.</p>"
   ]
  },
  {
   "cell_type": "code",
   "execution_count": 15,
   "metadata": {},
   "outputs": [],
   "source": [
    "array4 = np.random.uniform(5,10, size = (5,3))"
   ]
  },
  {
   "cell_type": "code",
   "execution_count": 16,
   "metadata": {},
   "outputs": [
    {
     "data": {
      "text/plain": [
       "array([[7.50987587, 8.52700595, 9.39857418],\n",
       "       [9.58192798, 5.93618538, 5.90364238],\n",
       "       [7.19488064, 5.07502625, 5.16027305],\n",
       "       [6.33758773, 8.57055912, 5.85906388],\n",
       "       [8.65614226, 5.43183666, 8.31236262]])"
      ]
     },
     "execution_count": 16,
     "metadata": {},
     "output_type": "execute_result"
    }
   ],
   "source": [
    "array4"
   ]
  },
  {
   "cell_type": "markdown",
   "metadata": {},
   "source": [
    "<p>10. Crea un array de tres dimensiones de 2x4x7 con números entre el 1 y el 20</p>"
   ]
  },
  {
   "cell_type": "code",
   "execution_count": 17,
   "metadata": {},
   "outputs": [
    {
     "data": {
      "text/plain": [
       "array([[[ 4,  1,  8,  2,  5,  6, 17],\n",
       "        [ 2,  1, 17, 15,  5,  7,  8],\n",
       "        [12,  1, 16,  2,  5, 18, 16],\n",
       "        [11, 15, 19,  7, 11, 10, 17]],\n",
       "\n",
       "       [[16, 17,  9,  6, 12, 16,  3],\n",
       "        [ 1, 13, 15,  3, 14,  7,  3],\n",
       "        [ 2,  9, 17,  5,  5,  1, 12],\n",
       "        [ 7, 19, 10, 11, 18,  3,  1]]])"
      ]
     },
     "execution_count": 17,
     "metadata": {},
     "output_type": "execute_result"
    }
   ],
   "source": [
    "array5 = np.random.randint(1,20, size = (2,4,7))\n",
    "array5"
   ]
  },
  {
   "cell_type": "markdown",
   "metadata": {},
   "source": [
    "<li>Transponed el array para que tenga 4 matrices, 7 filas y 2 columnas</li>"
   ]
  },
  {
   "cell_type": "code",
   "execution_count": 18,
   "metadata": {},
   "outputs": [],
   "source": [
    "array6 = np.transpose(array5, (1,2,0))"
   ]
  },
  {
   "cell_type": "code",
   "execution_count": 19,
   "metadata": {},
   "outputs": [
    {
     "data": {
      "text/plain": [
       "array([[[ 4, 16],\n",
       "        [ 1, 17],\n",
       "        [ 8,  9],\n",
       "        [ 2,  6],\n",
       "        [ 5, 12],\n",
       "        [ 6, 16],\n",
       "        [17,  3]],\n",
       "\n",
       "       [[ 2,  1],\n",
       "        [ 1, 13],\n",
       "        [17, 15],\n",
       "        [15,  3],\n",
       "        [ 5, 14],\n",
       "        [ 7,  7],\n",
       "        [ 8,  3]],\n",
       "\n",
       "       [[12,  2],\n",
       "        [ 1,  9],\n",
       "        [16, 17],\n",
       "        [ 2,  5],\n",
       "        [ 5,  5],\n",
       "        [18,  1],\n",
       "        [16, 12]],\n",
       "\n",
       "       [[11,  7],\n",
       "        [15, 19],\n",
       "        [19, 10],\n",
       "        [ 7, 11],\n",
       "        [11, 18],\n",
       "        [10,  3],\n",
       "        [17,  1]]])"
      ]
     },
     "execution_count": 19,
     "metadata": {},
     "output_type": "execute_result"
    }
   ],
   "source": [
    "array6"
   ]
  }
 ],
 "metadata": {
  "kernelspec": {
   "display_name": "base",
   "language": "python",
   "name": "python3"
  },
  "language_info": {
   "codemirror_mode": {
    "name": "ipython",
    "version": 3
   },
   "file_extension": ".py",
   "mimetype": "text/x-python",
   "name": "python",
   "nbconvert_exporter": "python",
   "pygments_lexer": "ipython3",
   "version": "3.9.7"
  },
  "orig_nbformat": 4
 },
 "nbformat": 4,
 "nbformat_minor": 2
}
