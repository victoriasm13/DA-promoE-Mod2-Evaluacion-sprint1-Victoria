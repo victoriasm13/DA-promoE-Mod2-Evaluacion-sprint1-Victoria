{
 "cells": [
  {
   "cell_type": "markdown",
   "metadata": {},
   "source": [
    "<p>1. Importa la librería de NumPy. </p>"
   ]
  },
  {
   "cell_type": "code",
   "execution_count": 2,
   "metadata": {},
   "outputs": [],
   "source": [
    "import numpy as np "
   ]
  },
  {
   "cell_type": "markdown",
   "metadata": {},
   "source": [
    "<p>2. Crea un array de 1 dimension y 10 elementos.</p>"
   ]
  },
  {
   "cell_type": "code",
   "execution_count": 7,
   "metadata": {},
   "outputs": [
    {
     "data": {
      "text/plain": [
       "array([6, 3, 3, 9, 3, 3, 4, 1, 0, 5])"
      ]
     },
     "execution_count": 7,
     "metadata": {},
     "output_type": "execute_result"
    }
   ],
   "source": [
    "array =  np.random.randint(10, size = 10)\n",
    "array "
   ]
  },
  {
   "cell_type": "markdown",
   "metadata": {},
   "source": [
    "<p>3. Reemplaza todos los números impares por el valor \"impar\" y los pares por \"par\". Para hacer esto os tendréis que crear un array nuevo donde vayáis añadiendo los valores nuevos.</p>"
   ]
  },
  {
   "cell_type": "code",
   "execution_count": 8,
   "metadata": {},
   "outputs": [],
   "source": [
    "arrayn = []\n",
    "\n",
    "for i in array:\n",
    "    if i%2 == 0:\n",
    "        arrayn.append(\"par\")\n",
    "    else:\n",
    "        arrayn.append(\"impar\")"
   ]
  },
  {
   "cell_type": "code",
   "execution_count": 11,
   "metadata": {},
   "outputs": [
    {
     "data": {
      "text/plain": [
       "10"
      ]
     },
     "execution_count": 11,
     "metadata": {},
     "output_type": "execute_result"
    }
   ],
   "source": [
    "arrayn"
   ]
  },
  {
   "cell_type": "markdown",
   "metadata": {},
   "source": [
    "<p>4. Cambiad la forma del array del ejercicio 3 a un array de 2 filas y 5 columnas.</p>"
   ]
  },
  {
   "cell_type": "code",
   "execution_count": 12,
   "metadata": {},
   "outputs": [
    {
     "data": {
      "text/plain": [
       "array([['par', 'impar', 'impar', 'impar', 'impar'],\n",
       "       ['impar', 'par', 'impar', 'par', 'impar']], dtype='<U5')"
      ]
     },
     "execution_count": 12,
     "metadata": {},
     "output_type": "execute_result"
    }
   ],
   "source": [
    "arrayan = np.reshape(arrayn, (2,5))\n",
    "arrayan"
   ]
  },
  {
   "cell_type": "markdown",
   "metadata": {},
   "source": [
    "<p>5. Extrae los elementos comunes de los siguientes arrays</p>\n",
    "<ul>\n",
    "<li>array1 = np.array([1,2,3,2,3,4,3,4,5,6])</li>\n",
    "<li>array2 = np.array([7,2,10,2,7,4,9,4,9,8])</li>\n",
    "</ul>"
   ]
  },
  {
   "cell_type": "code",
   "execution_count": 13,
   "metadata": {},
   "outputs": [],
   "source": [
    "array1 = np.array([1,2,3,2,3,4,3,4,5,6])\n",
    "array2 = np.array([7,2,10,2,7,4,9,4,9,8])"
   ]
  },
  {
   "cell_type": "code",
   "execution_count": 14,
   "metadata": {},
   "outputs": [
    {
     "data": {
      "text/plain": [
       "array([2, 4])"
      ]
     },
     "execution_count": 14,
     "metadata": {},
     "output_type": "execute_result"
    }
   ],
   "source": [
    "np.intersect1d(array1,array2)"
   ]
  },
  {
   "cell_type": "markdown",
   "metadata": {},
   "source": [
    "<p>6. Extraed los elementos que están en el array1 pero no en el array2.</p>"
   ]
  },
  {
   "cell_type": "code",
   "execution_count": 16,
   "metadata": {},
   "outputs": [
    {
     "data": {
      "text/plain": [
       "array([1, 3, 5, 6])"
      ]
     },
     "execution_count": 16,
     "metadata": {},
     "output_type": "execute_result"
    }
   ],
   "source": [
    "np.setdiff1d(array1,array2)"
   ]
  },
  {
   "cell_type": "markdown",
   "metadata": {},
   "source": [
    "<p>7.Extraed las posiciones donde tengamos elementos que sean iguales.</p>"
   ]
  },
  {
   "cell_type": "code",
   "execution_count": 18,
   "metadata": {},
   "outputs": [],
   "source": [
    "array_iguales, array1index, array2index = np.intersect1d(array1, array2, return_indices=True)"
   ]
  },
  {
   "cell_type": "code",
   "execution_count": 19,
   "metadata": {},
   "outputs": [
    {
     "name": "stdout",
     "output_type": "stream",
     "text": [
      "[1 5] [1 5]\n"
     ]
    }
   ],
   "source": [
    "print(array1index,array2index)"
   ]
  },
  {
   "cell_type": "markdown",
   "metadata": {},
   "source": [
    "<p>8. Cread un array de 3 filas y 5 columnas, con números enteros del 0 al 50. Una vez creado, extrae los valores que sean menores que 10 y mayores que 40.</p>"
   ]
  },
  {
   "cell_type": "code",
   "execution_count": 22,
   "metadata": {},
   "outputs": [
    {
     "data": {
      "text/plain": [
       "array([[45,  2, 37, 27, 27],\n",
       "       [25,  6, 35, 42,  3],\n",
       "       [21, 17,  9, 44,  4]])"
      ]
     },
     "execution_count": 22,
     "metadata": {},
     "output_type": "execute_result"
    }
   ],
   "source": [
    "array3 = np.random.randint(50, size = (3,5))\n",
    "array3"
   ]
  },
  {
   "cell_type": "code",
   "execution_count": 27,
   "metadata": {},
   "outputs": [],
   "source": [
    "array3_lista = []\n",
    "for i in array3:\n",
    "    for j in i:\n",
    "        if  j < 10 or j > 40:\n",
    "            array3_lista.append(j)\n",
    "        "
   ]
  },
  {
   "cell_type": "code",
   "execution_count": 28,
   "metadata": {},
   "outputs": [
    {
     "data": {
      "text/plain": [
       "[45, 2, 6, 42, 3, 9, 44, 4]"
      ]
     },
     "execution_count": 28,
     "metadata": {},
     "output_type": "execute_result"
    }
   ],
   "source": [
    "array3_lista"
   ]
  },
  {
   "cell_type": "markdown",
   "metadata": {},
   "source": [
    "<p>9.Cread un array de 5x3 con números decimales aleatorios entre el 5 y el 10.</p>"
   ]
  },
  {
   "cell_type": "code",
   "execution_count": 29,
   "metadata": {},
   "outputs": [],
   "source": [
    "array4 = np.random.uniform(5,10, size = (5,3))"
   ]
  },
  {
   "cell_type": "code",
   "execution_count": 30,
   "metadata": {},
   "outputs": [
    {
     "data": {
      "text/plain": [
       "array([[5.35427937, 6.0208882 , 6.03011767],\n",
       "       [7.34351905, 8.89791728, 7.86137042],\n",
       "       [6.20255966, 9.61441206, 5.97962057],\n",
       "       [9.91143948, 6.56506637, 9.97640872],\n",
       "       [6.8878053 , 8.19211995, 9.3488584 ]])"
      ]
     },
     "execution_count": 30,
     "metadata": {},
     "output_type": "execute_result"
    }
   ],
   "source": [
    "array4"
   ]
  },
  {
   "cell_type": "markdown",
   "metadata": {},
   "source": [
    "<p>10. Crea un array de tres dimensiones de 2x4x7 con números entre el 1 y el 20</p>"
   ]
  },
  {
   "cell_type": "code",
   "execution_count": 31,
   "metadata": {},
   "outputs": [
    {
     "data": {
      "text/plain": [
       "array([[[16, 13, 10, 14, 18, 12,  5],\n",
       "        [ 3,  1, 14, 14, 16, 12, 11],\n",
       "        [ 4,  8,  2, 12,  1, 15, 16],\n",
       "        [ 6,  3, 19, 13,  5,  7,  8]],\n",
       "\n",
       "       [[ 4,  5, 12, 15, 18, 16, 14],\n",
       "        [ 5,  4,  6, 18, 19,  2, 10],\n",
       "        [ 8, 16,  9,  6,  7,  8, 10],\n",
       "        [ 4, 11,  5,  6,  4, 10,  1]]])"
      ]
     },
     "execution_count": 31,
     "metadata": {},
     "output_type": "execute_result"
    }
   ],
   "source": [
    "array5 = np.random.randint(1,20, size = (2,4,7))\n",
    "array5"
   ]
  },
  {
   "cell_type": "markdown",
   "metadata": {},
   "source": [
    "<li>Transponed el array para que tenga 4 matrices, 7 filas y 2 columnas</li>"
   ]
  },
  {
   "cell_type": "code",
   "execution_count": 32,
   "metadata": {},
   "outputs": [],
   "source": [
    "array6 = np.transpose(array5, (1,2,0))"
   ]
  },
  {
   "cell_type": "code",
   "execution_count": 35,
   "metadata": {},
   "outputs": [
    {
     "data": {
      "text/plain": [
       "array([[[16,  4],\n",
       "        [13,  5],\n",
       "        [10, 12],\n",
       "        [14, 15],\n",
       "        [18, 18],\n",
       "        [12, 16],\n",
       "        [ 5, 14]],\n",
       "\n",
       "       [[ 3,  5],\n",
       "        [ 1,  4],\n",
       "        [14,  6],\n",
       "        [14, 18],\n",
       "        [16, 19],\n",
       "        [12,  2],\n",
       "        [11, 10]],\n",
       "\n",
       "       [[ 4,  8],\n",
       "        [ 8, 16],\n",
       "        [ 2,  9],\n",
       "        [12,  6],\n",
       "        [ 1,  7],\n",
       "        [15,  8],\n",
       "        [16, 10]],\n",
       "\n",
       "       [[ 6,  4],\n",
       "        [ 3, 11],\n",
       "        [19,  5],\n",
       "        [13,  6],\n",
       "        [ 5,  4],\n",
       "        [ 7, 10],\n",
       "        [ 8,  1]]])"
      ]
     },
     "execution_count": 35,
     "metadata": {},
     "output_type": "execute_result"
    }
   ],
   "source": [
    "array6"
   ]
  }
 ],
 "metadata": {
  "kernelspec": {
   "display_name": "base",
   "language": "python",
   "name": "python3"
  },
  "language_info": {
   "codemirror_mode": {
    "name": "ipython",
    "version": 3
   },
   "file_extension": ".py",
   "mimetype": "text/x-python",
   "name": "python",
   "nbconvert_exporter": "python",
   "pygments_lexer": "ipython3",
   "version": "3.9.7"
  },
  "orig_nbformat": 4
 },
 "nbformat": 4,
 "nbformat_minor": 2
}
